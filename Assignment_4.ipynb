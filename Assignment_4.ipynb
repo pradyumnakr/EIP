{
  "nbformat": 4,
  "nbformat_minor": 0,
  "metadata": {
    "colab": {
      "name": "Assignment 4.ipynb",
      "version": "0.3.2",
      "provenance": [],
      "collapsed_sections": [],
      "include_colab_link": true
    },
    "kernelspec": {
      "name": "python3",
      "display_name": "Python 3"
    },
    "accelerator": "GPU"
  },
  "cells": [
    {
      "cell_type": "markdown",
      "metadata": {
        "id": "view-in-github",
        "colab_type": "text"
      },
      "source": [
        "<a href=\"https://colab.research.google.com/github/pradyumnakr/EIP/blob/master/Assignment_4.ipynb\" target=\"_parent\"><img src=\"https://colab.research.google.com/assets/colab-badge.svg\" alt=\"Open In Colab\"/></a>"
      ]
    },
    {
      "cell_type": "markdown",
      "metadata": {
        "id": "35lUgbUdpTzu",
        "colab_type": "text"
      },
      "source": [
        "# The Basic Architectures for ResNet\n",
        "\n",
        "---\n",
        "## The Following Code Follows ResNet-50 Architecture\n",
        "![3](data:image/jpeg;base64,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)\n",
        "---\n",
        "\n",
        "Architectural Parameters:\n",
        "![3](https://cdn-images-1.medium.com/max/1600/1*hEU7S-EiVqcmtAlj6kgfRA.png)\n",
        "\n",
        "---"
      ]
    },
    {
      "cell_type": "code",
      "metadata": {
        "id": "3mOnlZC5LvtS",
        "colab_type": "code",
        "outputId": "b0154367-b298-42d8-fadf-a2096fa248e1",
        "colab": {
          "base_uri": "https://localhost:8080/",
          "height": 122
        }
      },
      "source": [
        "from google.colab import drive\n",
        "drive.mount('/content/gdrive')\n"
      ],
      "execution_count": 0,
      "outputs": [
        {
          "output_type": "stream",
          "text": [
            "Go to this URL in a browser: https://accounts.google.com/o/oauth2/auth?client_id=947318989803-6bn6qk8qdgf4n4g3pfee6491hc0brc4i.apps.googleusercontent.com&redirect_uri=urn%3Aietf%3Awg%3Aoauth%3A2.0%3Aoob&scope=email%20https%3A%2F%2Fwww.googleapis.com%2Fauth%2Fdocs.test%20https%3A%2F%2Fwww.googleapis.com%2Fauth%2Fdrive%20https%3A%2F%2Fwww.googleapis.com%2Fauth%2Fdrive.photos.readonly%20https%3A%2F%2Fwww.googleapis.com%2Fauth%2Fpeopleapi.readonly&response_type=code\n",
            "\n",
            "Enter your authorization code:\n",
            "··········\n",
            "Mounted at /content/gdrive\n"
          ],
          "name": "stdout"
        }
      ]
    },
    {
      "cell_type": "code",
      "metadata": {
        "id": "UtU1xi03Ev0m",
        "colab_type": "code",
        "outputId": "77469b61-a4d4-4a4d-ed5a-f6e6264ef20c",
        "colab": {
          "base_uri": "https://localhost:8080/",
          "height": 34
        }
      },
      "source": [
        "!ls"
      ],
      "execution_count": 0,
      "outputs": [
        {
          "output_type": "stream",
          "text": [
            "gdrive\tsample_data\n"
          ],
          "name": "stdout"
        }
      ]
    },
    {
      "cell_type": "code",
      "metadata": {
        "id": "LHSBOpLLExNp",
        "colab_type": "code",
        "outputId": "c5de1fc3-ea6f-4efa-c517-b93913a1b191",
        "colab": {
          "base_uri": "https://localhost:8080/",
          "height": 238
        }
      },
      "source": [
        "!wget http://cs231n.stanford.edu/tiny-imagenet-200.zip\n",
        "!ls\n",
        "!unzip -qq 'tiny-imagenet-200.zip'\n",
        "!ls"
      ],
      "execution_count": 0,
      "outputs": [
        {
          "output_type": "stream",
          "text": [
            "--2019-04-07 09:28:36--  http://cs231n.stanford.edu/tiny-imagenet-200.zip\n",
            "Resolving cs231n.stanford.edu (cs231n.stanford.edu)... 171.64.68.10\n",
            "Connecting to cs231n.stanford.edu (cs231n.stanford.edu)|171.64.68.10|:80... connected.\n",
            "HTTP request sent, awaiting response... 200 OK\n",
            "Length: 248100043 (237M) [application/zip]\n",
            "Saving to: ‘tiny-imagenet-200.zip’\n",
            "\n",
            "tiny-imagenet-200.z 100%[===================>] 236.61M  20.7MB/s    in 14s     \n",
            "\n",
            "2019-04-07 09:28:51 (16.7 MB/s) - ‘tiny-imagenet-200.zip’ saved [248100043/248100043]\n",
            "\n",
            "gdrive\tsample_data  tiny-imagenet-200.zip\n",
            "gdrive\tsample_data  tiny-imagenet-200\ttiny-imagenet-200.zip\n"
          ],
          "name": "stdout"
        }
      ]
    },
    {
      "cell_type": "code",
      "metadata": {
        "id": "4iN-MuSqE3Z6",
        "colab_type": "code",
        "outputId": "23094335-ffe9-4e29-f779-514fc618515e",
        "colab": {
          "base_uri": "https://localhost:8080/",
          "height": 34
        }
      },
      "source": [
        "import numpy as np\n",
        "import pandas as pd\n",
        "import tensorflow as tf\n",
        "\n",
        "import matplotlib.pyplot as plt\n",
        "%matplotlib  inline\n",
        "from keras.preprocessing.image import ImageDataGenerator"
      ],
      "execution_count": 0,
      "outputs": [
        {
          "output_type": "stream",
          "text": [
            "Using TensorFlow backend.\n"
          ],
          "name": "stderr"
        }
      ]
    },
    {
      "cell_type": "code",
      "metadata": {
        "id": "pGJRAbVAE6E-",
        "colab_type": "code",
        "outputId": "b1a0346a-073c-4b50-f403-f015ab13d722",
        "colab": {
          "base_uri": "https://localhost:8080/",
          "height": 142
        }
      },
      "source": [
        "val_data = pd.read_csv('./tiny-imagenet-200/val/val_annotations.txt', sep='\\t', header=None, names=['File', 'Class', 'X', 'Y', 'H', 'W'])\n",
        "val_data.drop(['X', 'Y', 'H', 'W'], axis=1, inplace=True)\n",
        "val_data.head(3)"
      ],
      "execution_count": 0,
      "outputs": [
        {
          "output_type": "execute_result",
          "data": {
            "text/html": [
              "<div>\n",
              "<style scoped>\n",
              "    .dataframe tbody tr th:only-of-type {\n",
              "        vertical-align: middle;\n",
              "    }\n",
              "\n",
              "    .dataframe tbody tr th {\n",
              "        vertical-align: top;\n",
              "    }\n",
              "\n",
              "    .dataframe thead th {\n",
              "        text-align: right;\n",
              "    }\n",
              "</style>\n",
              "<table border=\"1\" class=\"dataframe\">\n",
              "  <thead>\n",
              "    <tr style=\"text-align: right;\">\n",
              "      <th></th>\n",
              "      <th>File</th>\n",
              "      <th>Class</th>\n",
              "    </tr>\n",
              "  </thead>\n",
              "  <tbody>\n",
              "    <tr>\n",
              "      <th>0</th>\n",
              "      <td>val_0.JPEG</td>\n",
              "      <td>n03444034</td>\n",
              "    </tr>\n",
              "    <tr>\n",
              "      <th>1</th>\n",
              "      <td>val_1.JPEG</td>\n",
              "      <td>n04067472</td>\n",
              "    </tr>\n",
              "    <tr>\n",
              "      <th>2</th>\n",
              "      <td>val_2.JPEG</td>\n",
              "      <td>n04070727</td>\n",
              "    </tr>\n",
              "  </tbody>\n",
              "</table>\n",
              "</div>"
            ],
            "text/plain": [
              "         File      Class\n",
              "0  val_0.JPEG  n03444034\n",
              "1  val_1.JPEG  n04067472\n",
              "2  val_2.JPEG  n04070727"
            ]
          },
          "metadata": {
            "tags": []
          },
          "execution_count": 5
        }
      ]
    },
    {
      "cell_type": "code",
      "metadata": {
        "id": "czBQJ06ZE8oh",
        "colab_type": "code",
        "outputId": "cf851e40-cd1e-4816-e116-a19b839a8075",
        "colab": {
          "base_uri": "https://localhost:8080/",
          "height": 51
        }
      },
      "source": [
        "# Use Augmentaion parameters as required.\n",
        "train_datagen = ImageDataGenerator(\n",
        "    rescale= 1./255,\n",
        "    zoom_range = 0.2,\n",
        "    width_shift_range=0.2,\n",
        "    height_shift_range=0.2,\n",
        "    rotation_range=60,\n",
        "    horizontal_flip=True,\n",
        "    fill_mode=\"nearest\"\n",
        "    )\n",
        "\n",
        "valid_datagen = ImageDataGenerator(rescale=1./255)\n",
        "train_generator = train_datagen.flow_from_directory( r'./tiny-imagenet-200/train/', target_size=(64, 64), color_mode='rgb', \n",
        "                                                    batch_size=500, class_mode='categorical', shuffle=True, seed=42)\n",
        "val_generator = valid_datagen.flow_from_dataframe(val_data, directory='./tiny-imagenet-200/val/images/', x_col='File', y_col='Class', target_size=(64, 64),\n",
        "                                                    color_mode='rgb', class_mode='categorical', batch_size=500, shuffle=True, seed=42)\n",
        "\n"
      ],
      "execution_count": 0,
      "outputs": [
        {
          "output_type": "stream",
          "text": [
            "Found 100000 images belonging to 200 classes.\n",
            "Found 10000 images belonging to 200 classes.\n"
          ],
          "name": "stdout"
        }
      ]
    },
    {
      "cell_type": "code",
      "metadata": {
        "id": "Nd5w7Nh6FJjD",
        "colab_type": "code",
        "outputId": "b7994675-b74f-4e64-a207-62853253574a",
        "colab": {
          "base_uri": "https://localhost:8080/",
          "height": 323
        }
      },
      "source": [
        "x_batch, y_batch = next(train_generator)\n",
        "x_batch.shape\n",
        "\n",
        "fig = plt.figure(figsize=(14, 5))\n",
        "\n",
        "for i in range(8):\n",
        "    sub = fig.add_subplot(2, 4, i + 1)\n",
        "    sub.imshow(x_batch[i,:,:], interpolation='nearest')"
      ],
      "execution_count": 0,
      "outputs": [
        {
          "output_type": "display_data",
          "data": {
            "image/png": "[encoded data removed]",
            "text/plain": [
              "<Figure size 1008x360 with 8 Axes>"
            ]
          },
          "metadata": {
            "tags": []
          }
        }
      ]
    },
    {
      "cell_type": "code",
      "metadata": {
        "id": "EibZdynbLJMw",
        "colab_type": "code",
        "outputId": "31220c5d-43e2-4646-a87b-b0a62df242b5",
        "colab": {
          "base_uri": "https://localhost:8080/",
          "height": 2383
        }
      },
      "source": [
        "from keras.layers import Input, Dense\n",
        "from keras.layers import add\n",
        "from keras.models import Model\n",
        "from keras import regularizers\n",
        "from keras.layers.advanced_activations import LeakyReLU\n",
        "from keras.layers import BatchNormalization, Activation, SeparableConv2D, Conv2D, MaxPooling2D, AveragePooling2D, Flatten, DepthwiseConv2D\n",
        "\n",
        "inputs = Input(shape=(64,64,3,))\n",
        "x1 = Conv2D(64, (1, 1),activation='relu')(inputs)\n",
        "x1 = Conv2D(64, (3,3), strides=(2,2), padding='same')(x1)\n",
        "x1 = Conv2D(64, (3,3), strides=(1,1), padding='same')(x1)\n",
        "x1 = Conv2D(64, (3,3), strides=(1,1), padding='same')(x1)\n",
        "x1 = Conv2D(64, (3,3), strides=(1,1), padding='same')(x1)\n",
        "x1 = MaxPooling2D(pool_size=2, strides=(2,2))(x1)\n",
        "\n",
        "shortcut = x1\n",
        "a = SeparableConv2D(64,(3,3),padding='same')(x1)\n",
        "a = BatchNormalization(axis=-1, epsilon=2e-5, momentum=0.9)(a)\n",
        "a = LeakyReLU(alpha=0.1)(a)\n",
        "a = Conv2D(64,(3,3),padding='same',activation='relu')(a)\n",
        "a = Conv2D(64,(3,3),padding='same',activation='relu')(a)\n",
        "a = Conv2D(64,(3,3),padding='same',activation='relu')(a)\n",
        "a = Conv2D(64,(3,3),padding='same',activation='relu')(a)\n",
        "a = Conv2D(64,(3,3),padding='same',activation='relu')(a)\n",
        "a = add([a, shortcut])\n",
        "a = MaxPooling2D(pool_size=2, strides=(2,2))(a)\n",
        "\n",
        "shortcut = Conv2D(128, (1, 1), padding='same')(a)\n",
        "b = SeparableConv2D(128,(3,3),padding='same')(a)\n",
        "b = BatchNormalization(axis=-1, epsilon=2e-5, momentum=0.9)(b)\n",
        "b = LeakyReLU(alpha=0.1)(b)\n",
        "b = Conv2D(128,(3,3),padding='same',activation='relu')(b)\n",
        "b = Conv2D(128,(3,3),padding='same',activation='relu')(b)\n",
        "b = Conv2D(128,(3,3),padding='same',activation='relu')(b)\n",
        "b = Conv2D(128,(3,3),padding='same',activation='relu')(b)\n",
        "b = Conv2D(128,(3,3),padding='same',activation='relu')(b)\n",
        "b = Conv2D(128,(3,3),padding='same',activation='relu')(b)\n",
        "b = Conv2D(128,(3,3),padding='same',activation='relu')(b)\n",
        "b = add([b, shortcut])\n",
        "b = MaxPooling2D(pool_size=2, strides=(2,2))(b)\n",
        "\n",
        "shortcut = Conv2D(256, (1, 1), padding='same')(b)\n",
        "c = SeparableConv2D(256,(3,3),padding='same')(b)\n",
        "c = BatchNormalization(axis=-1, epsilon=2e-5, momentum=0.9)(c)\n",
        "c = LeakyReLU(alpha=0.1)(c)\n",
        "c = Conv2D(256,(3,3),padding='same',activation='relu')(c)\n",
        "c = Conv2D(256,(3,3),padding='same',activation='relu')(c)\n",
        "c = Conv2D(256,(3,3),padding='same',activation='relu')(c)\n",
        "c = Conv2D(256,(3,3),padding='same',activation='relu')(c)\n",
        "c = Conv2D(256,(3,3),padding='same',activation='relu')(c)\n",
        "c = Conv2D(256,(3,3),padding='same',activation='relu')(c)\n",
        "c = Conv2D(256,(3,3),padding='same',activation='relu')(c)\n",
        "c = Conv2D(256,(3,3),padding='same',activation='relu')(c)\n",
        "c = Conv2D(256,(3,3),padding='same',activation='relu')(c)\n",
        "c = Conv2D(256,(3,3),padding='same',activation='relu')(c)\n",
        "c = Conv2D(256,(3,3),padding='same',activation='relu')(c)\n",
        "c = add([c, shortcut])\n",
        "c = MaxPooling2D(pool_size=2, strides=(2,2))(c)\n",
        "\n",
        "shortcut = Conv2D(512, (1, 1), padding='same')(c)\n",
        "d = SeparableConv2D(512,(3,3),padding='same')(c)\n",
        "d = BatchNormalization(axis=-1, epsilon=2e-5, momentum=0.9)(d)\n",
        "d = LeakyReLU(alpha=0.1)(d)\n",
        "d = Conv2D(512,(3,3),padding='same',activation='relu')(d)\n",
        "d = Conv2D(512,(3,3),padding='same',activation='relu')(d)\n",
        "d = Conv2D(512,(3,3),padding='same',activation='relu')(d)\n",
        "d = Conv2D(512,(3,3),padding='same',activation='relu')(d)\n",
        "d = Conv2D(512,(3,3),padding='same',activation='relu')(d)\n",
        "d = add([d, shortcut])\n",
        "d = MaxPooling2D(pool_size=2, strides=(2,2))(d)\n",
        "\n",
        "d = Conv2D(200, (1,1))(d)\n",
        "d = Flatten()(d)\n",
        "d = BatchNormalization(axis=-1, epsilon=2e-5, momentum=0.9)(d)\n",
        "output = Activation('softmax')(d)\n",
        "model = Model(inputs=inputs, outputs=output)\n",
        "model.summary()"
      ],
      "execution_count": 0,
      "outputs": [
        {
          "output_type": "stream",
          "text": [
            "WARNING:tensorflow:From /usr/local/lib/python3.6/dist-packages/tensorflow/python/framework/op_def_library.py:263: colocate_with (from tensorflow.python.framework.ops) is deprecated and will be removed in a future version.\n",
            "Instructions for updating:\n",
            "Colocations handled automatically by placer.\n",
            "__________________________________________________________________________________________________\n",
            "Layer (type)                    Output Shape         Param #     Connected to                     \n",
            "==================================================================================================\n",
            "input_1 (InputLayer)            (None, 64, 64, 3)    0                                            \n",
            "__________________________________________________________________________________________________\n",
            "conv2d_1 (Conv2D)               (None, 64, 64, 64)   256         input_1[0][0]                    \n",
            "__________________________________________________________________________________________________\n",
            "conv2d_2 (Conv2D)               (None, 32, 32, 64)   36928       conv2d_1[0][0]                   \n",
            "__________________________________________________________________________________________________\n",
            "conv2d_3 (Conv2D)               (None, 32, 32, 64)   36928       conv2d_2[0][0]                   \n",
            "__________________________________________________________________________________________________\n",
            "conv2d_4 (Conv2D)               (None, 32, 32, 64)   36928       conv2d_3[0][0]                   \n",
            "__________________________________________________________________________________________________\n",
            "conv2d_5 (Conv2D)               (None, 32, 32, 64)   36928       conv2d_4[0][0]                   \n",
            "__________________________________________________________________________________________________\n",
            "max_pooling2d_1 (MaxPooling2D)  (None, 16, 16, 64)   0           conv2d_5[0][0]                   \n",
            "__________________________________________________________________________________________________\n",
            "separable_conv2d_1 (SeparableCo (None, 16, 16, 64)   4736        max_pooling2d_1[0][0]            \n",
            "__________________________________________________________________________________________________\n",
            "batch_normalization_1 (BatchNor (None, 16, 16, 64)   256         separable_conv2d_1[0][0]         \n",
            "__________________________________________________________________________________________________\n",
            "leaky_re_lu_1 (LeakyReLU)       (None, 16, 16, 64)   0           batch_normalization_1[0][0]      \n",
            "__________________________________________________________________________________________________\n",
            "conv2d_6 (Conv2D)               (None, 16, 16, 64)   36928       leaky_re_lu_1[0][0]              \n",
            "__________________________________________________________________________________________________\n",
            "conv2d_7 (Conv2D)               (None, 16, 16, 64)   36928       conv2d_6[0][0]                   \n",
            "__________________________________________________________________________________________________\n",
            "conv2d_8 (Conv2D)               (None, 16, 16, 64)   36928       conv2d_7[0][0]                   \n",
            "__________________________________________________________________________________________________\n",
            "conv2d_9 (Conv2D)               (None, 16, 16, 64)   36928       conv2d_8[0][0]                   \n",
            "__________________________________________________________________________________________________\n",
            "conv2d_10 (Conv2D)              (None, 16, 16, 64)   36928       conv2d_9[0][0]                   \n",
            "__________________________________________________________________________________________________\n",
            "add_1 (Add)                     (None, 16, 16, 64)   0           conv2d_10[0][0]                  \n",
            "                                                                 max_pooling2d_1[0][0]            \n",
            "__________________________________________________________________________________________________\n",
            "max_pooling2d_2 (MaxPooling2D)  (None, 8, 8, 64)     0           add_1[0][0]                      \n",
            "__________________________________________________________________________________________________\n",
            "separable_conv2d_2 (SeparableCo (None, 8, 8, 128)    8896        max_pooling2d_2[0][0]            \n",
            "__________________________________________________________________________________________________\n",
            "batch_normalization_2 (BatchNor (None, 8, 8, 128)    512         separable_conv2d_2[0][0]         \n",
            "__________________________________________________________________________________________________\n",
            "leaky_re_lu_2 (LeakyReLU)       (None, 8, 8, 128)    0           batch_normalization_2[0][0]      \n",
            "__________________________________________________________________________________________________\n",
            "conv2d_12 (Conv2D)              (None, 8, 8, 128)    147584      leaky_re_lu_2[0][0]              \n",
            "__________________________________________________________________________________________________\n",
            "conv2d_13 (Conv2D)              (None, 8, 8, 128)    147584      conv2d_12[0][0]                  \n",
            "__________________________________________________________________________________________________\n",
            "conv2d_14 (Conv2D)              (None, 8, 8, 128)    147584      conv2d_13[0][0]                  \n",
            "__________________________________________________________________________________________________\n",
            "conv2d_15 (Conv2D)              (None, 8, 8, 128)    147584      conv2d_14[0][0]                  \n",
            "__________________________________________________________________________________________________\n",
            "conv2d_16 (Conv2D)              (None, 8, 8, 128)    147584      conv2d_15[0][0]                  \n",
            "__________________________________________________________________________________________________\n",
            "conv2d_17 (Conv2D)              (None, 8, 8, 128)    147584      conv2d_16[0][0]                  \n",
            "__________________________________________________________________________________________________\n",
            "conv2d_18 (Conv2D)              (None, 8, 8, 128)    147584      conv2d_17[0][0]                  \n",
            "__________________________________________________________________________________________________\n",
            "conv2d_11 (Conv2D)              (None, 8, 8, 128)    8320        max_pooling2d_2[0][0]            \n",
            "__________________________________________________________________________________________________\n",
            "add_2 (Add)                     (None, 8, 8, 128)    0           conv2d_18[0][0]                  \n",
            "                                                                 conv2d_11[0][0]                  \n",
            "__________________________________________________________________________________________________\n",
            "max_pooling2d_3 (MaxPooling2D)  (None, 4, 4, 128)    0           add_2[0][0]                      \n",
            "__________________________________________________________________________________________________\n",
            "separable_conv2d_3 (SeparableCo (None, 4, 4, 256)    34176       max_pooling2d_3[0][0]            \n",
            "__________________________________________________________________________________________________\n",
            "batch_normalization_3 (BatchNor (None, 4, 4, 256)    1024        separable_conv2d_3[0][0]         \n",
            "__________________________________________________________________________________________________\n",
            "leaky_re_lu_3 (LeakyReLU)       (None, 4, 4, 256)    0           batch_normalization_3[0][0]      \n",
            "__________________________________________________________________________________________________\n",
            "conv2d_20 (Conv2D)              (None, 4, 4, 256)    590080      leaky_re_lu_3[0][0]              \n",
            "__________________________________________________________________________________________________\n",
            "conv2d_21 (Conv2D)              (None, 4, 4, 256)    590080      conv2d_20[0][0]                  \n",
            "__________________________________________________________________________________________________\n",
            "conv2d_22 (Conv2D)              (None, 4, 4, 256)    590080      conv2d_21[0][0]                  \n",
            "__________________________________________________________________________________________________\n",
            "conv2d_23 (Conv2D)              (None, 4, 4, 256)    590080      conv2d_22[0][0]                  \n",
            "__________________________________________________________________________________________________\n",
            "conv2d_24 (Conv2D)              (None, 4, 4, 256)    590080      conv2d_23[0][0]                  \n",
            "__________________________________________________________________________________________________\n",
            "conv2d_25 (Conv2D)              (None, 4, 4, 256)    590080      conv2d_24[0][0]                  \n",
            "__________________________________________________________________________________________________\n",
            "conv2d_26 (Conv2D)              (None, 4, 4, 256)    590080      conv2d_25[0][0]                  \n",
            "__________________________________________________________________________________________________\n",
            "conv2d_27 (Conv2D)              (None, 4, 4, 256)    590080      conv2d_26[0][0]                  \n",
            "__________________________________________________________________________________________________\n",
            "conv2d_28 (Conv2D)              (None, 4, 4, 256)    590080      conv2d_27[0][0]                  \n",
            "__________________________________________________________________________________________________\n",
            "conv2d_29 (Conv2D)              (None, 4, 4, 256)    590080      conv2d_28[0][0]                  \n",
            "__________________________________________________________________________________________________\n",
            "conv2d_30 (Conv2D)              (None, 4, 4, 256)    590080      conv2d_29[0][0]                  \n",
            "__________________________________________________________________________________________________\n",
            "conv2d_19 (Conv2D)              (None, 4, 4, 256)    33024       max_pooling2d_3[0][0]            \n",
            "__________________________________________________________________________________________________\n",
            "add_3 (Add)                     (None, 4, 4, 256)    0           conv2d_30[0][0]                  \n",
            "                                                                 conv2d_19[0][0]                  \n",
            "__________________________________________________________________________________________________\n",
            "max_pooling2d_4 (MaxPooling2D)  (None, 2, 2, 256)    0           add_3[0][0]                      \n",
            "__________________________________________________________________________________________________\n",
            "separable_conv2d_4 (SeparableCo (None, 2, 2, 512)    133888      max_pooling2d_4[0][0]            \n",
            "__________________________________________________________________________________________________\n",
            "batch_normalization_4 (BatchNor (None, 2, 2, 512)    2048        separable_conv2d_4[0][0]         \n",
            "__________________________________________________________________________________________________\n",
            "leaky_re_lu_4 (LeakyReLU)       (None, 2, 2, 512)    0           batch_normalization_4[0][0]      \n",
            "__________________________________________________________________________________________________\n",
            "conv2d_32 (Conv2D)              (None, 2, 2, 512)    2359808     leaky_re_lu_4[0][0]              \n",
            "__________________________________________________________________________________________________\n",
            "conv2d_33 (Conv2D)              (None, 2, 2, 512)    2359808     conv2d_32[0][0]                  \n",
            "__________________________________________________________________________________________________\n",
            "conv2d_34 (Conv2D)              (None, 2, 2, 512)    2359808     conv2d_33[0][0]                  \n",
            "__________________________________________________________________________________________________\n",
            "conv2d_35 (Conv2D)              (None, 2, 2, 512)    2359808     conv2d_34[0][0]                  \n",
            "__________________________________________________________________________________________________\n",
            "conv2d_36 (Conv2D)              (None, 2, 2, 512)    2359808     conv2d_35[0][0]                  \n",
            "__________________________________________________________________________________________________\n",
            "conv2d_31 (Conv2D)              (None, 2, 2, 512)    131584      max_pooling2d_4[0][0]            \n",
            "__________________________________________________________________________________________________\n",
            "add_4 (Add)                     (None, 2, 2, 512)    0           conv2d_36[0][0]                  \n",
            "                                                                 conv2d_31[0][0]                  \n",
            "__________________________________________________________________________________________________\n",
            "max_pooling2d_5 (MaxPooling2D)  (None, 1, 1, 512)    0           add_4[0][0]                      \n",
            "__________________________________________________________________________________________________\n",
            "conv2d_37 (Conv2D)              (None, 1, 1, 200)    102600      max_pooling2d_5[0][0]            \n",
            "__________________________________________________________________________________________________\n",
            "flatten_1 (Flatten)             (None, 200)          0           conv2d_37[0][0]                  \n",
            "__________________________________________________________________________________________________\n",
            "batch_normalization_5 (BatchNor (None, 200)          800         flatten_1[0][0]                  \n",
            "__________________________________________________________________________________________________\n",
            "activation_1 (Activation)       (None, 200)          0           batch_normalization_5[0][0]      \n",
            "==================================================================================================\n",
            "Total params: 20,117,480\n",
            "Trainable params: 20,115,160\n",
            "Non-trainable params: 2,320\n",
            "__________________________________________________________________________________________________\n"
          ],
          "name": "stdout"
        }
      ]
    },
    {
      "cell_type": "code",
      "metadata": {
        "id": "mRrjhLepRWmY",
        "colab_type": "code",
        "outputId": "e457444f-5e70-4303-be5b-323bc28d0f2f",
        "colab": {
          "base_uri": "https://localhost:8080/",
          "height": 85
        }
      },
      "source": [
        "!pip install h5py pyyaml \n",
        "from __future__ import absolute_import, division, print_function\n",
        "\n",
        "import os\n",
        "\n",
        "import tensorflow as tf\n",
        "from tensorflow import keras\n",
        "\n",
        "checkpoint_path = \"/content/gdrive/My Drive/training/cp.ckpt\"\n",
        "checkpoint_dir = os.path.dirname(checkpoint_path)\n",
        "\n",
        "# Create checkpoint callback\n",
        "cp_callback = tf.keras.callbacks.ModelCheckpoint(checkpoint_path,  monitor='val_loss',\n",
        "                                                 save_weights_only=False,\n",
        "                                                 verbose=1,period=5)\n",
        "\n",
        "from keras.callbacks import ReduceLROnPlateau\n",
        "reduce_lr = ReduceLROnPlateau(monitor='val_loss', factor=0.1, patience=10, verbose=0, mode='auto', min_delta=0.0001, cooldown=0, min_lr=0)\n"
      ],
      "execution_count": 0,
      "outputs": [
        {
          "output_type": "stream",
          "text": [
            "Requirement already satisfied: h5py in /usr/local/lib/python3.6/dist-packages (2.8.0)\n",
            "Requirement already satisfied: pyyaml in /usr/local/lib/python3.6/dist-packages (3.13)\n",
            "Requirement already satisfied: six in /usr/local/lib/python3.6/dist-packages (from h5py) (1.11.0)\n",
            "Requirement already satisfied: numpy>=1.7 in /usr/local/lib/python3.6/dist-packages (from h5py) (1.14.6)\n"
          ],
          "name": "stdout"
        }
      ]
    },
    {
      "cell_type": "code",
      "metadata": {
        "id": "uvEdDnkQNx8L",
        "colab_type": "code",
        "colab": {}
      },
      "source": [
        "from keras.optimizers import Adam\n",
        "import math\n",
        "from keras.callbacks import ModelCheckpoint, LearningRateScheduler, Callback\n",
        "\n",
        "opt = Adam()\n",
        "model.compile(loss='categorical_crossentropy',\n",
        "              optimizer=opt,\n",
        "              metrics=['accuracy'])"
      ],
      "execution_count": 0,
      "outputs": []
    },
    {
      "cell_type": "code",
      "metadata": {
        "id": "du-v7fs4N5hW",
        "colab_type": "code",
        "outputId": "0202c86c-6024-481c-e518-d5ae6f0b5e76",
        "colab": {
          "base_uri": "https://localhost:8080/",
          "height": 632
        }
      },
      "source": [
        "model.fit_generator(train_generator,steps_per_epoch=100000 // 512, validation_data=val_generator, validation_steps=10000 // 512, epochs=50, max_queue_size=64*2,verbose=1, callbacks = [cp_callback])\n",
        "model.save_weights('first_try.h5')"
      ],
      "execution_count": 0,
      "outputs": [
        {
          "output_type": "stream",
          "text": [
            "WARNING:tensorflow:From /usr/local/lib/python3.6/dist-packages/tensorflow/python/ops/math_ops.py:3066: to_int32 (from tensorflow.python.ops.math_ops) is deprecated and will be removed in a future version.\n",
            "Instructions for updating:\n",
            "Use tf.cast instead.\n",
            "Epoch 1/50\n",
            "195/195 [==============================] - 274s 1s/step - loss: 5.3135 - acc: 0.0084 - val_loss: 6.7448 - val_acc: 0.0056\n",
            "Epoch 2/50\n",
            "195/195 [==============================] - 239s 1s/step - loss: 5.1121 - acc: 0.0181 - val_loss: 5.4397 - val_acc: 0.0131\n",
            "Epoch 3/50\n",
            "195/195 [==============================] - 241s 1s/step - loss: 4.9017 - acc: 0.0348 - val_loss: 4.9853 - val_acc: 0.0300\n",
            "Epoch 4/50\n",
            "195/195 [==============================] - 238s 1s/step - loss: 4.7705 - acc: 0.0473 - val_loss: 4.7390 - val_acc: 0.0517\n",
            "Epoch 5/50\n",
            "195/195 [==============================] - 239s 1s/step - loss: 4.6617 - acc: 0.0620 - val_loss: 4.7606 - val_acc: 0.0502\n",
            "\n",
            "Epoch 00005: saving model to /content/gdrive/My Drive/training/cp.ckpt\n",
            "Epoch 6/50\n",
            "195/195 [==============================] - 238s 1s/step - loss: 4.5631 - acc: 0.0736 - val_loss: 4.6383 - val_acc: 0.0627\n",
            "Epoch 7/50\n",
            "195/195 [==============================] - 238s 1s/step - loss: 4.4417 - acc: 0.0891 - val_loss: 4.4651 - val_acc: 0.0827\n",
            "Epoch 8/50\n",
            "195/195 [==============================] - 240s 1s/step - loss: 4.3278 - acc: 0.1029 - val_loss: 4.3738 - val_acc: 0.0942\n",
            "Epoch 9/50\n",
            "195/195 [==============================] - 241s 1s/step - loss: 4.2179 - acc: 0.1180 - val_loss: 4.5141 - val_acc: 0.1003\n",
            "Epoch 10/50\n",
            "195/195 [==============================] - 240s 1s/step - loss: 4.1142 - acc: 0.1304 - val_loss: 4.0550 - val_acc: 0.1315\n",
            "\n",
            "Epoch 00010: saving model to /content/gdrive/My Drive/training/cp.ckpt\n",
            "Epoch 11/50\n",
            "195/195 [==============================] - 240s 1s/step - loss: 4.0300 - acc: 0.1406 - val_loss: 4.1007 - val_acc: 0.1296\n",
            "Epoch 12/50\n",
            "195/195 [==============================] - 241s 1s/step - loss: 3.9531 - acc: 0.1546 - val_loss: 4.1000 - val_acc: 0.1352\n",
            "Epoch 13/50\n",
            "195/195 [==============================] - 242s 1s/step - loss: 3.8739 - acc: 0.1645 - val_loss: 3.9097 - val_acc: 0.1575\n",
            "Epoch 14/50\n",
            "  5/195 [..............................] - ETA: 3:23 - loss: 3.8816 - acc: 0.1692"
          ],
          "name": "stdout"
        }
      ]
    },
    {
      "cell_type": "code",
      "metadata": {
        "id": "tcw3brnV241P",
        "colab_type": "code",
        "outputId": "fe449b0a-5d1d-437f-87cf-903e448340e9",
        "colab": {
          "base_uri": "https://localhost:8080/",
          "height": 51
        }
      },
      "source": [
        "#50 epoches done\n",
        "from tensorflow.keras.models import load_model\n",
        "import tensorflow as tf\n",
        "from tensorflow import keras\n",
        "model = load_model(\"/content/gdrive/My Drive/training_1/cp.ckpt\")\n",
        "cp_callback = tf.keras.callbacks.ModelCheckpoint(\"/content/gdrive/My Drive/training_1/cp.ckpt\", \n",
        "                                                 save_weights_only=False,\n",
        "                                                 verbose=1,period=5)\n",
        "\n",
        "train_datagen = ImageDataGenerator(\n",
        "        rescale=1./255,\n",
        "        shear_range=0.2,\n",
        "        zoom_range=0.2,\n",
        "        horizontal_flip=True)\n",
        "\n",
        "test_datagen = ImageDataGenerator(rescale=1./255)\n",
        "\n",
        "train_generator = train_datagen.flow_from_directory(\n",
        "        r'./tiny-imagenet-200/train/',\n",
        "        target_size=(64, 64),\n",
        "        batch_size=256,\n",
        "        class_mode='categorical')\n",
        "\n",
        "val_generator = valid_datagen.flow_from_dataframe(\n",
        "        val_data, directory='./tiny-imagenet-200/val/images/',\n",
        "        x_col='File', y_col='Class',\n",
        "        target_size=(64, 64),\n",
        "        batch_size=256,\n",
        "        class_mode='categorical')"
      ],
      "execution_count": 0,
      "outputs": [
        {
          "output_type": "stream",
          "text": [
            "Found 100000 images belonging to 200 classes.\n",
            "Found 10000 images belonging to 200 classes.\n"
          ],
          "name": "stdout"
        }
      ]
    },
    {
      "cell_type": "code",
      "metadata": {
        "id": "w7DjFzS7ia0m",
        "colab_type": "code",
        "outputId": "18f59b4e-712a-4b4f-e57c-e10e555a56a6",
        "colab": {
          "base_uri": "https://localhost:8080/",
          "height": 1390
        }
      },
      "source": [
        "model.fit_generator(train_generator,steps_per_epoch=100000 // 256, validation_data=val_generator, validation_steps=10000 // 256, epochs=50, max_queue_size=64*2,verbose=1, callbacks = [cp_callback])"
      ],
      "execution_count": 0,
      "outputs": [
        {
          "output_type": "stream",
          "text": [
            "Epoch 1/50\n",
            "40/40 [==============================] - 12s 303ms/step - loss: 3.0657 - acc: 0.3171\n",
            "391/391 [==============================] - 258s 661ms/step - loss: 2.7619 - acc: 0.3583 - val_loss: 3.0657 - val_acc: 0.3171\n",
            "Epoch 2/50\n",
            "40/40 [==============================] - 11s 286ms/step - loss: 2.7014 - acc: 0.3753\n",
            "391/391 [==============================] - 268s 686ms/step - loss: 2.3565 - acc: 0.4351 - val_loss: 2.7014 - val_acc: 0.3753\n",
            "Epoch 3/50\n",
            "40/40 [==============================] - 11s 283ms/step - loss: 2.6342 - acc: 0.3869\n",
            "391/391 [==============================] - 266s 681ms/step - loss: 2.1884 - acc: 0.4658 - val_loss: 2.6342 - val_acc: 0.3869\n",
            "Epoch 4/50\n",
            "40/40 [==============================] - 11s 282ms/step - loss: 2.8237 - acc: 0.3629\n",
            "391/391 [==============================] - 265s 678ms/step - loss: 2.0597 - acc: 0.4942 - val_loss: 2.8237 - val_acc: 0.3629\n",
            "Epoch 5/50\n",
            "40/40 [==============================] - 12s 291ms/step - loss: 2.7035 - acc: 0.3845\n",
            "\n",
            "Epoch 00005: saving model to /content/gdrive/My Drive/training_1/cp.ckpt\n",
            "391/391 [==============================] - 336s 860ms/step - loss: 1.9520 - acc: 0.5147 - val_loss: 2.7035 - val_acc: 0.3845\n",
            "Epoch 6/50\n",
            "40/40 [==============================] - 11s 279ms/step - loss: 2.7133 - acc: 0.3906\n",
            "391/391 [==============================] - 226s 578ms/step - loss: 1.8552 - acc: 0.5362 - val_loss: 2.7133 - val_acc: 0.3906\n",
            "Epoch 7/50\n",
            "40/40 [==============================] - 11s 280ms/step - loss: 2.6858 - acc: 0.3968\n",
            "391/391 [==============================] - 264s 675ms/step - loss: 1.7609 - acc: 0.5568 - val_loss: 2.6858 - val_acc: 0.3968\n",
            "Epoch 8/50\n",
            "40/40 [==============================] - 11s 285ms/step - loss: 2.6628 - acc: 0.4039\n",
            "391/391 [==============================] - 266s 682ms/step - loss: 1.6812 - acc: 0.5731 - val_loss: 2.6628 - val_acc: 0.4039\n",
            "Epoch 9/50\n",
            "40/40 [==============================] - 12s 290ms/step - loss: 2.6985 - acc: 0.4016\n",
            "391/391 [==============================] - 270s 691ms/step - loss: 1.6036 - acc: 0.5904 - val_loss: 2.6985 - val_acc: 0.4016\n",
            "Epoch 10/50\n",
            "40/40 [==============================] - 12s 289ms/step - loss: 2.7839 - acc: 0.3899\n",
            "\n",
            "Epoch 00010: saving model to /content/gdrive/My Drive/training_1/cp.ckpt\n",
            "391/391 [==============================] - 268s 686ms/step - loss: 1.5246 - acc: 0.6081 - val_loss: 2.7839 - val_acc: 0.3899\n",
            "Epoch 11/50\n",
            "  9/391 [..............................] - ETA: 2:49 - loss: 1.3507 - acc: 0.6562"
          ],
          "name": "stdout"
        },
        {
          "output_type": "error",
          "ename": "KeyboardInterrupt",
          "evalue": "ignored",
          "traceback": [
            "\u001b[0;31m---------------------------------------------------------------------------\u001b[0m",
            "\u001b[0;31mKeyboardInterrupt\u001b[0m                         Traceback (most recent call last)",
            "\u001b[0;32m<ipython-input-21-55719bad9666>\u001b[0m in \u001b[0;36m<module>\u001b[0;34m()\u001b[0m\n\u001b[0;32m----> 1\u001b[0;31m \u001b[0mmodel\u001b[0m\u001b[0;34m.\u001b[0m\u001b[0mfit_generator\u001b[0m\u001b[0;34m(\u001b[0m\u001b[0mtrain_generator\u001b[0m\u001b[0;34m,\u001b[0m\u001b[0msteps_per_epoch\u001b[0m\u001b[0;34m=\u001b[0m\u001b[0;36m100000\u001b[0m \u001b[0;34m//\u001b[0m \u001b[0;36m256\u001b[0m\u001b[0;34m,\u001b[0m \u001b[0mvalidation_data\u001b[0m\u001b[0;34m=\u001b[0m\u001b[0mval_generator\u001b[0m\u001b[0;34m,\u001b[0m \u001b[0mvalidation_steps\u001b[0m\u001b[0;34m=\u001b[0m\u001b[0;36m10000\u001b[0m \u001b[0;34m//\u001b[0m \u001b[0;36m256\u001b[0m\u001b[0;34m,\u001b[0m \u001b[0mepochs\u001b[0m\u001b[0;34m=\u001b[0m\u001b[0;36m50\u001b[0m\u001b[0;34m,\u001b[0m \u001b[0mmax_queue_size\u001b[0m\u001b[0;34m=\u001b[0m\u001b[0;36m64\u001b[0m\u001b[0;34m*\u001b[0m\u001b[0;36m2\u001b[0m\u001b[0;34m,\u001b[0m\u001b[0mverbose\u001b[0m\u001b[0;34m=\u001b[0m\u001b[0;36m1\u001b[0m\u001b[0;34m,\u001b[0m \u001b[0mcallbacks\u001b[0m \u001b[0;34m=\u001b[0m \u001b[0;34m[\u001b[0m\u001b[0mcp_callback\u001b[0m\u001b[0;34m]\u001b[0m\u001b[0;34m)\u001b[0m\u001b[0;34m\u001b[0m\u001b[0;34m\u001b[0m\u001b[0m\n\u001b[0m",
            "\u001b[0;32m/usr/local/lib/python3.6/dist-packages/tensorflow/python/keras/engine/training.py\u001b[0m in \u001b[0;36mfit_generator\u001b[0;34m(self, generator, steps_per_epoch, epochs, verbose, callbacks, validation_data, validation_steps, class_weight, max_queue_size, workers, use_multiprocessing, shuffle, initial_epoch)\u001b[0m\n\u001b[1;32m   1424\u001b[0m         \u001b[0muse_multiprocessing\u001b[0m\u001b[0;34m=\u001b[0m\u001b[0muse_multiprocessing\u001b[0m\u001b[0;34m,\u001b[0m\u001b[0;34m\u001b[0m\u001b[0;34m\u001b[0m\u001b[0m\n\u001b[1;32m   1425\u001b[0m         \u001b[0mshuffle\u001b[0m\u001b[0;34m=\u001b[0m\u001b[0mshuffle\u001b[0m\u001b[0;34m,\u001b[0m\u001b[0;34m\u001b[0m\u001b[0;34m\u001b[0m\u001b[0m\n\u001b[0;32m-> 1426\u001b[0;31m         initial_epoch=initial_epoch)\n\u001b[0m\u001b[1;32m   1427\u001b[0m \u001b[0;34m\u001b[0m\u001b[0m\n\u001b[1;32m   1428\u001b[0m   def evaluate_generator(self,\n",
            "\u001b[0;32m/usr/local/lib/python3.6/dist-packages/tensorflow/python/keras/engine/training_generator.py\u001b[0m in \u001b[0;36mmodel_iteration\u001b[0;34m(model, data, steps_per_epoch, epochs, verbose, callbacks, validation_data, validation_steps, class_weight, max_queue_size, workers, use_multiprocessing, shuffle, initial_epoch, mode, batch_size, **kwargs)\u001b[0m\n\u001b[1;32m    189\u001b[0m       \u001b[0mprogbar\u001b[0m\u001b[0;34m.\u001b[0m\u001b[0mon_batch_begin\u001b[0m\u001b[0;34m(\u001b[0m\u001b[0mstep\u001b[0m\u001b[0;34m,\u001b[0m \u001b[0mbatch_logs\u001b[0m\u001b[0;34m)\u001b[0m\u001b[0;34m\u001b[0m\u001b[0;34m\u001b[0m\u001b[0m\n\u001b[1;32m    190\u001b[0m \u001b[0;34m\u001b[0m\u001b[0m\n\u001b[0;32m--> 191\u001b[0;31m       \u001b[0mbatch_outs\u001b[0m \u001b[0;34m=\u001b[0m \u001b[0mbatch_function\u001b[0m\u001b[0;34m(\u001b[0m\u001b[0;34m*\u001b[0m\u001b[0mbatch_data\u001b[0m\u001b[0;34m)\u001b[0m\u001b[0;34m\u001b[0m\u001b[0;34m\u001b[0m\u001b[0m\n\u001b[0m\u001b[1;32m    192\u001b[0m       \u001b[0;32mif\u001b[0m \u001b[0;32mnot\u001b[0m \u001b[0misinstance\u001b[0m\u001b[0;34m(\u001b[0m\u001b[0mbatch_outs\u001b[0m\u001b[0;34m,\u001b[0m \u001b[0mlist\u001b[0m\u001b[0;34m)\u001b[0m\u001b[0;34m:\u001b[0m\u001b[0;34m\u001b[0m\u001b[0;34m\u001b[0m\u001b[0m\n\u001b[1;32m    193\u001b[0m         \u001b[0mbatch_outs\u001b[0m \u001b[0;34m=\u001b[0m \u001b[0;34m[\u001b[0m\u001b[0mbatch_outs\u001b[0m\u001b[0;34m]\u001b[0m\u001b[0;34m\u001b[0m\u001b[0;34m\u001b[0m\u001b[0m\n",
            "\u001b[0;32m/usr/local/lib/python3.6/dist-packages/tensorflow/python/keras/engine/training.py\u001b[0m in \u001b[0;36mtrain_on_batch\u001b[0;34m(self, x, y, sample_weight, class_weight, reset_metrics)\u001b[0m\n\u001b[1;32m   1189\u001b[0m       \u001b[0;32melse\u001b[0m\u001b[0;34m:\u001b[0m\u001b[0;34m\u001b[0m\u001b[0;34m\u001b[0m\u001b[0m\n\u001b[1;32m   1190\u001b[0m         \u001b[0mself\u001b[0m\u001b[0;34m.\u001b[0m\u001b[0m_make_fit_function\u001b[0m\u001b[0;34m(\u001b[0m\u001b[0;34m)\u001b[0m\u001b[0;34m\u001b[0m\u001b[0;34m\u001b[0m\u001b[0m\n\u001b[0;32m-> 1191\u001b[0;31m         \u001b[0moutputs\u001b[0m \u001b[0;34m=\u001b[0m \u001b[0mself\u001b[0m\u001b[0;34m.\u001b[0m\u001b[0m_fit_function\u001b[0m\u001b[0;34m(\u001b[0m\u001b[0mins\u001b[0m\u001b[0;34m)\u001b[0m  \u001b[0;31m# pylint: disable=not-callable\u001b[0m\u001b[0;34m\u001b[0m\u001b[0;34m\u001b[0m\u001b[0m\n\u001b[0m\u001b[1;32m   1192\u001b[0m \u001b[0;34m\u001b[0m\u001b[0m\n\u001b[1;32m   1193\u001b[0m     \u001b[0;32mif\u001b[0m \u001b[0mreset_metrics\u001b[0m\u001b[0;34m:\u001b[0m\u001b[0;34m\u001b[0m\u001b[0;34m\u001b[0m\u001b[0m\n",
            "\u001b[0;32m/usr/local/lib/python3.6/dist-packages/tensorflow/python/keras/backend.py\u001b[0m in \u001b[0;36m__call__\u001b[0;34m(self, inputs)\u001b[0m\n\u001b[1;32m   3074\u001b[0m \u001b[0;34m\u001b[0m\u001b[0m\n\u001b[1;32m   3075\u001b[0m     fetched = self._callable_fn(*array_vals,\n\u001b[0;32m-> 3076\u001b[0;31m                                 run_metadata=self.run_metadata)\n\u001b[0m\u001b[1;32m   3077\u001b[0m     \u001b[0mself\u001b[0m\u001b[0;34m.\u001b[0m\u001b[0m_call_fetch_callbacks\u001b[0m\u001b[0;34m(\u001b[0m\u001b[0mfetched\u001b[0m\u001b[0;34m[\u001b[0m\u001b[0;34m-\u001b[0m\u001b[0mlen\u001b[0m\u001b[0;34m(\u001b[0m\u001b[0mself\u001b[0m\u001b[0;34m.\u001b[0m\u001b[0m_fetches\u001b[0m\u001b[0;34m)\u001b[0m\u001b[0;34m:\u001b[0m\u001b[0;34m]\u001b[0m\u001b[0;34m)\u001b[0m\u001b[0;34m\u001b[0m\u001b[0;34m\u001b[0m\u001b[0m\n\u001b[1;32m   3078\u001b[0m     return nest.pack_sequence_as(self._outputs_structure,\n",
            "\u001b[0;32m/usr/local/lib/python3.6/dist-packages/tensorflow/python/client/session.py\u001b[0m in \u001b[0;36m__call__\u001b[0;34m(self, *args, **kwargs)\u001b[0m\n\u001b[1;32m   1437\u001b[0m           ret = tf_session.TF_SessionRunCallable(\n\u001b[1;32m   1438\u001b[0m               \u001b[0mself\u001b[0m\u001b[0;34m.\u001b[0m\u001b[0m_session\u001b[0m\u001b[0;34m.\u001b[0m\u001b[0m_session\u001b[0m\u001b[0;34m,\u001b[0m \u001b[0mself\u001b[0m\u001b[0;34m.\u001b[0m\u001b[0m_handle\u001b[0m\u001b[0;34m,\u001b[0m \u001b[0margs\u001b[0m\u001b[0;34m,\u001b[0m \u001b[0mstatus\u001b[0m\u001b[0;34m,\u001b[0m\u001b[0;34m\u001b[0m\u001b[0;34m\u001b[0m\u001b[0m\n\u001b[0;32m-> 1439\u001b[0;31m               run_metadata_ptr)\n\u001b[0m\u001b[1;32m   1440\u001b[0m         \u001b[0;32mif\u001b[0m \u001b[0mrun_metadata\u001b[0m\u001b[0;34m:\u001b[0m\u001b[0;34m\u001b[0m\u001b[0;34m\u001b[0m\u001b[0m\n\u001b[1;32m   1441\u001b[0m           \u001b[0mproto_data\u001b[0m \u001b[0;34m=\u001b[0m \u001b[0mtf_session\u001b[0m\u001b[0;34m.\u001b[0m\u001b[0mTF_GetBuffer\u001b[0m\u001b[0;34m(\u001b[0m\u001b[0mrun_metadata_ptr\u001b[0m\u001b[0;34m)\u001b[0m\u001b[0;34m\u001b[0m\u001b[0;34m\u001b[0m\u001b[0m\n",
            "\u001b[0;31mKeyboardInterrupt\u001b[0m: "
          ]
        }
      ]
    },
    {
      "cell_type": "code",
      "metadata": {
        "id": "Ek_ug9YS-o9c",
        "colab_type": "code",
        "outputId": "f85602d7-760a-4ad5-9e07-f1ff8e703151",
        "colab": {
          "base_uri": "https://localhost:8080/",
          "height": 1747
        }
      },
      "source": [
        "#60 epoches done\n",
        "from tensorflow.keras.models import load_model\n",
        "import tensorflow as tf\n",
        "from tensorflow import keras\n",
        "model = load_model(\"/content/gdrive/My Drive/training_1/cp.ckpt\")\n",
        "cp_callback = tf.keras.callbacks.ModelCheckpoint(\"/content/gdrive/My Drive/training_1/cp.ckpt\", \n",
        "                                                 save_weights_only=False,\n",
        "                                                 verbose=1,period=5)\n",
        "\n",
        "train_datagen = ImageDataGenerator(\n",
        "        rescale=1./255,\n",
        "        shear_range=0.2,\n",
        "        zoom_range=0.2,\n",
        "        horizontal_flip=True)\n",
        "\n",
        "test_datagen = ImageDataGenerator(rescale=1./255)\n",
        "\n",
        "train_generator = train_datagen.flow_from_directory(\n",
        "        r'./tiny-imagenet-200/train/',\n",
        "        target_size=(64, 64),\n",
        "        batch_size=128,\n",
        "        class_mode='categorical')\n",
        "\n",
        "val_generator = valid_datagen.flow_from_dataframe(\n",
        "        val_data, directory='./tiny-imagenet-200/val/images/',\n",
        "        x_col='File', y_col='Class',\n",
        "        target_size=(64, 64),\n",
        "        batch_size=128,\n",
        "        class_mode='categorical')\n",
        "\n",
        "model.fit_generator(train_generator,steps_per_epoch=100000 // 128, validation_data=val_generator, validation_steps=10000 // 128, epochs=50, max_queue_size=64*2,verbose=1, callbacks = [cp_callback])"
      ],
      "execution_count": 0,
      "outputs": [
        {
          "output_type": "stream",
          "text": [
            "Found 100000 images belonging to 200 classes.\n",
            "Found 10000 images belonging to 200 classes.\n",
            "Epoch 1/50\n",
            "79/79 [==============================] - 15s 188ms/step - loss: 2.7131 - acc: 0.3799\n",
            "782/782 [==============================] - 341s 436ms/step - loss: 2.6355 - acc: 0.3813 - val_loss: 2.7131 - val_acc: 0.3799\n",
            "Epoch 2/50\n",
            "79/79 [==============================] - 15s 187ms/step - loss: 2.6535 - acc: 0.3872\n",
            "782/782 [==============================] - 352s 450ms/step - loss: 2.3019 - acc: 0.4457 - val_loss: 2.6535 - val_acc: 0.3872\n",
            "Epoch 3/50\n",
            "79/79 [==============================] - 15s 184ms/step - loss: 2.6990 - acc: 0.3872\n",
            "782/782 [==============================] - 353s 452ms/step - loss: 2.2116 - acc: 0.4642 - val_loss: 2.6990 - val_acc: 0.3872\n",
            "Epoch 4/50\n",
            "79/79 [==============================] - 15s 184ms/step - loss: 2.6374 - acc: 0.3998\n",
            "782/782 [==============================] - 355s 454ms/step - loss: 2.1665 - acc: 0.4723 - val_loss: 2.6374 - val_acc: 0.3998\n",
            "Epoch 5/50\n",
            "79/79 [==============================] - 15s 187ms/step - loss: 2.6528 - acc: 0.3947\n",
            "\n",
            "Epoch 00005: saving model to /content/gdrive/My Drive/training_1/cp.ckpt\n",
            "782/782 [==============================] - 425s 543ms/step - loss: 2.1202 - acc: 0.4806 - val_loss: 2.6528 - val_acc: 0.3947\n",
            "Epoch 6/50\n",
            "79/79 [==============================] - 15s 189ms/step - loss: 2.5756 - acc: 0.4061\n",
            "782/782 [==============================] - 323s 413ms/step - loss: 2.0900 - acc: 0.4849 - val_loss: 2.5756 - val_acc: 0.4061\n",
            "Epoch 7/50\n",
            "79/79 [==============================] - 15s 187ms/step - loss: 2.6168 - acc: 0.4052\n",
            "782/782 [==============================] - 352s 451ms/step - loss: 2.0552 - acc: 0.4948 - val_loss: 2.6168 - val_acc: 0.4052\n",
            "Epoch 8/50\n",
            "79/79 [==============================] - 15s 185ms/step - loss: 2.6094 - acc: 0.4018\n",
            "782/782 [==============================] - 352s 450ms/step - loss: 2.0248 - acc: 0.4987 - val_loss: 2.6094 - val_acc: 0.4018\n",
            "Epoch 9/50\n",
            "79/79 [==============================] - 15s 186ms/step - loss: 2.6131 - acc: 0.4008\n",
            "782/782 [==============================] - 351s 449ms/step - loss: 1.9994 - acc: 0.5037 - val_loss: 2.6131 - val_acc: 0.4008\n",
            "Epoch 10/50\n",
            "79/79 [==============================] - 15s 184ms/step - loss: 2.6191 - acc: 0.4091\n",
            "\n",
            "Epoch 00010: saving model to /content/gdrive/My Drive/training_1/cp.ckpt\n",
            "782/782 [==============================] - 354s 452ms/step - loss: 1.9810 - acc: 0.5080 - val_loss: 2.6191 - val_acc: 0.4091\n",
            "Epoch 11/50\n",
            "79/79 [==============================] - 15s 192ms/step - loss: 2.5693 - acc: 0.4109\n",
            "782/782 [==============================] - 359s 459ms/step - loss: 1.9498 - acc: 0.5137 - val_loss: 2.5693 - val_acc: 0.4109\n",
            "Epoch 12/50\n",
            "79/79 [==============================] - 15s 195ms/step - loss: 2.6009 - acc: 0.4121\n",
            "782/782 [==============================] - 369s 472ms/step - loss: 1.9280 - acc: 0.5171 - val_loss: 2.6009 - val_acc: 0.4121\n",
            "Epoch 13/50\n",
            "79/79 [==============================] - 15s 184ms/step - loss: 2.5852 - acc: 0.4118\n",
            "782/782 [==============================] - 354s 453ms/step - loss: 1.9104 - acc: 0.5227 - val_loss: 2.5852 - val_acc: 0.4118\n",
            "Epoch 14/50\n",
            "79/79 [==============================] - 15s 195ms/step - loss: 2.6102 - acc: 0.4127\n",
            "782/782 [==============================] - 354s 453ms/step - loss: 1.8807 - acc: 0.5276 - val_loss: 2.6102 - val_acc: 0.4127\n",
            "Epoch 15/50\n",
            "79/79 [==============================] - 15s 192ms/step - loss: 2.6511 - acc: 0.4115\n",
            "\n",
            "Epoch 00015: saving model to /content/gdrive/My Drive/training_1/cp.ckpt\n",
            "782/782 [==============================] - 368s 470ms/step - loss: 1.8659 - acc: 0.5288 - val_loss: 2.6511 - val_acc: 0.4115\n",
            "Epoch 16/50\n",
            " 37/782 [>.............................] - ETA: 3:38 - loss: 1.8237 - acc: 0.5452"
          ],
          "name": "stdout"
        },
        {
          "output_type": "error",
          "ename": "KeyboardInterrupt",
          "evalue": "ignored",
          "traceback": [
            "\u001b[0;31m---------------------------------------------------------------------------\u001b[0m",
            "\u001b[0;31mKeyboardInterrupt\u001b[0m                         Traceback (most recent call last)",
            "\u001b[0;32m<ipython-input-22-65cd2334426b>\u001b[0m in \u001b[0;36m<module>\u001b[0;34m()\u001b[0m\n\u001b[1;32m     28\u001b[0m         class_mode='categorical')\n\u001b[1;32m     29\u001b[0m \u001b[0;34m\u001b[0m\u001b[0m\n\u001b[0;32m---> 30\u001b[0;31m \u001b[0mmodel\u001b[0m\u001b[0;34m.\u001b[0m\u001b[0mfit_generator\u001b[0m\u001b[0;34m(\u001b[0m\u001b[0mtrain_generator\u001b[0m\u001b[0;34m,\u001b[0m\u001b[0msteps_per_epoch\u001b[0m\u001b[0;34m=\u001b[0m\u001b[0;36m100000\u001b[0m \u001b[0;34m//\u001b[0m \u001b[0;36m128\u001b[0m\u001b[0;34m,\u001b[0m \u001b[0mvalidation_data\u001b[0m\u001b[0;34m=\u001b[0m\u001b[0mval_generator\u001b[0m\u001b[0;34m,\u001b[0m \u001b[0mvalidation_steps\u001b[0m\u001b[0;34m=\u001b[0m\u001b[0;36m10000\u001b[0m \u001b[0;34m//\u001b[0m \u001b[0;36m128\u001b[0m\u001b[0;34m,\u001b[0m \u001b[0mepochs\u001b[0m\u001b[0;34m=\u001b[0m\u001b[0;36m50\u001b[0m\u001b[0;34m,\u001b[0m \u001b[0mmax_queue_size\u001b[0m\u001b[0;34m=\u001b[0m\u001b[0;36m64\u001b[0m\u001b[0;34m*\u001b[0m\u001b[0;36m2\u001b[0m\u001b[0;34m,\u001b[0m\u001b[0mverbose\u001b[0m\u001b[0;34m=\u001b[0m\u001b[0;36m1\u001b[0m\u001b[0;34m,\u001b[0m \u001b[0mcallbacks\u001b[0m \u001b[0;34m=\u001b[0m \u001b[0;34m[\u001b[0m\u001b[0mcp_callback\u001b[0m\u001b[0;34m]\u001b[0m\u001b[0;34m)\u001b[0m\u001b[0;34m\u001b[0m\u001b[0;34m\u001b[0m\u001b[0m\n\u001b[0m",
            "\u001b[0;32m/usr/local/lib/python3.6/dist-packages/tensorflow/python/keras/engine/training.py\u001b[0m in \u001b[0;36mfit_generator\u001b[0;34m(self, generator, steps_per_epoch, epochs, verbose, callbacks, validation_data, validation_steps, class_weight, max_queue_size, workers, use_multiprocessing, shuffle, initial_epoch)\u001b[0m\n\u001b[1;32m   1424\u001b[0m         \u001b[0muse_multiprocessing\u001b[0m\u001b[0;34m=\u001b[0m\u001b[0muse_multiprocessing\u001b[0m\u001b[0;34m,\u001b[0m\u001b[0;34m\u001b[0m\u001b[0;34m\u001b[0m\u001b[0m\n\u001b[1;32m   1425\u001b[0m         \u001b[0mshuffle\u001b[0m\u001b[0;34m=\u001b[0m\u001b[0mshuffle\u001b[0m\u001b[0;34m,\u001b[0m\u001b[0;34m\u001b[0m\u001b[0;34m\u001b[0m\u001b[0m\n\u001b[0;32m-> 1426\u001b[0;31m         initial_epoch=initial_epoch)\n\u001b[0m\u001b[1;32m   1427\u001b[0m \u001b[0;34m\u001b[0m\u001b[0m\n\u001b[1;32m   1428\u001b[0m   def evaluate_generator(self,\n",
            "\u001b[0;32m/usr/local/lib/python3.6/dist-packages/tensorflow/python/keras/engine/training_generator.py\u001b[0m in \u001b[0;36mmodel_iteration\u001b[0;34m(model, data, steps_per_epoch, epochs, verbose, callbacks, validation_data, validation_steps, class_weight, max_queue_size, workers, use_multiprocessing, shuffle, initial_epoch, mode, batch_size, **kwargs)\u001b[0m\n\u001b[1;32m    189\u001b[0m       \u001b[0mprogbar\u001b[0m\u001b[0;34m.\u001b[0m\u001b[0mon_batch_begin\u001b[0m\u001b[0;34m(\u001b[0m\u001b[0mstep\u001b[0m\u001b[0;34m,\u001b[0m \u001b[0mbatch_logs\u001b[0m\u001b[0;34m)\u001b[0m\u001b[0;34m\u001b[0m\u001b[0;34m\u001b[0m\u001b[0m\n\u001b[1;32m    190\u001b[0m \u001b[0;34m\u001b[0m\u001b[0m\n\u001b[0;32m--> 191\u001b[0;31m       \u001b[0mbatch_outs\u001b[0m \u001b[0;34m=\u001b[0m \u001b[0mbatch_function\u001b[0m\u001b[0;34m(\u001b[0m\u001b[0;34m*\u001b[0m\u001b[0mbatch_data\u001b[0m\u001b[0;34m)\u001b[0m\u001b[0;34m\u001b[0m\u001b[0;34m\u001b[0m\u001b[0m\n\u001b[0m\u001b[1;32m    192\u001b[0m       \u001b[0;32mif\u001b[0m \u001b[0;32mnot\u001b[0m \u001b[0misinstance\u001b[0m\u001b[0;34m(\u001b[0m\u001b[0mbatch_outs\u001b[0m\u001b[0;34m,\u001b[0m \u001b[0mlist\u001b[0m\u001b[0;34m)\u001b[0m\u001b[0;34m:\u001b[0m\u001b[0;34m\u001b[0m\u001b[0;34m\u001b[0m\u001b[0m\n\u001b[1;32m    193\u001b[0m         \u001b[0mbatch_outs\u001b[0m \u001b[0;34m=\u001b[0m \u001b[0;34m[\u001b[0m\u001b[0mbatch_outs\u001b[0m\u001b[0;34m]\u001b[0m\u001b[0;34m\u001b[0m\u001b[0;34m\u001b[0m\u001b[0m\n",
            "\u001b[0;32m/usr/local/lib/python3.6/dist-packages/tensorflow/python/keras/engine/training.py\u001b[0m in \u001b[0;36mtrain_on_batch\u001b[0;34m(self, x, y, sample_weight, class_weight, reset_metrics)\u001b[0m\n\u001b[1;32m   1189\u001b[0m       \u001b[0;32melse\u001b[0m\u001b[0;34m:\u001b[0m\u001b[0;34m\u001b[0m\u001b[0;34m\u001b[0m\u001b[0m\n\u001b[1;32m   1190\u001b[0m         \u001b[0mself\u001b[0m\u001b[0;34m.\u001b[0m\u001b[0m_make_fit_function\u001b[0m\u001b[0;34m(\u001b[0m\u001b[0;34m)\u001b[0m\u001b[0;34m\u001b[0m\u001b[0;34m\u001b[0m\u001b[0m\n\u001b[0;32m-> 1191\u001b[0;31m         \u001b[0moutputs\u001b[0m \u001b[0;34m=\u001b[0m \u001b[0mself\u001b[0m\u001b[0;34m.\u001b[0m\u001b[0m_fit_function\u001b[0m\u001b[0;34m(\u001b[0m\u001b[0mins\u001b[0m\u001b[0;34m)\u001b[0m  \u001b[0;31m# pylint: disable=not-callable\u001b[0m\u001b[0;34m\u001b[0m\u001b[0;34m\u001b[0m\u001b[0m\n\u001b[0m\u001b[1;32m   1192\u001b[0m \u001b[0;34m\u001b[0m\u001b[0m\n\u001b[1;32m   1193\u001b[0m     \u001b[0;32mif\u001b[0m \u001b[0mreset_metrics\u001b[0m\u001b[0;34m:\u001b[0m\u001b[0;34m\u001b[0m\u001b[0;34m\u001b[0m\u001b[0m\n",
            "\u001b[0;32m/usr/local/lib/python3.6/dist-packages/tensorflow/python/keras/backend.py\u001b[0m in \u001b[0;36m__call__\u001b[0;34m(self, inputs)\u001b[0m\n\u001b[1;32m   3074\u001b[0m \u001b[0;34m\u001b[0m\u001b[0m\n\u001b[1;32m   3075\u001b[0m     fetched = self._callable_fn(*array_vals,\n\u001b[0;32m-> 3076\u001b[0;31m                                 run_metadata=self.run_metadata)\n\u001b[0m\u001b[1;32m   3077\u001b[0m     \u001b[0mself\u001b[0m\u001b[0;34m.\u001b[0m\u001b[0m_call_fetch_callbacks\u001b[0m\u001b[0;34m(\u001b[0m\u001b[0mfetched\u001b[0m\u001b[0;34m[\u001b[0m\u001b[0;34m-\u001b[0m\u001b[0mlen\u001b[0m\u001b[0;34m(\u001b[0m\u001b[0mself\u001b[0m\u001b[0;34m.\u001b[0m\u001b[0m_fetches\u001b[0m\u001b[0;34m)\u001b[0m\u001b[0;34m:\u001b[0m\u001b[0;34m]\u001b[0m\u001b[0;34m)\u001b[0m\u001b[0;34m\u001b[0m\u001b[0;34m\u001b[0m\u001b[0m\n\u001b[1;32m   3078\u001b[0m     return nest.pack_sequence_as(self._outputs_structure,\n",
            "\u001b[0;32m/usr/local/lib/python3.6/dist-packages/tensorflow/python/client/session.py\u001b[0m in \u001b[0;36m__call__\u001b[0;34m(self, *args, **kwargs)\u001b[0m\n\u001b[1;32m   1437\u001b[0m           ret = tf_session.TF_SessionRunCallable(\n\u001b[1;32m   1438\u001b[0m               \u001b[0mself\u001b[0m\u001b[0;34m.\u001b[0m\u001b[0m_session\u001b[0m\u001b[0;34m.\u001b[0m\u001b[0m_session\u001b[0m\u001b[0;34m,\u001b[0m \u001b[0mself\u001b[0m\u001b[0;34m.\u001b[0m\u001b[0m_handle\u001b[0m\u001b[0;34m,\u001b[0m \u001b[0margs\u001b[0m\u001b[0;34m,\u001b[0m \u001b[0mstatus\u001b[0m\u001b[0;34m,\u001b[0m\u001b[0;34m\u001b[0m\u001b[0;34m\u001b[0m\u001b[0m\n\u001b[0;32m-> 1439\u001b[0;31m               run_metadata_ptr)\n\u001b[0m\u001b[1;32m   1440\u001b[0m         \u001b[0;32mif\u001b[0m \u001b[0mrun_metadata\u001b[0m\u001b[0;34m:\u001b[0m\u001b[0;34m\u001b[0m\u001b[0;34m\u001b[0m\u001b[0m\n\u001b[1;32m   1441\u001b[0m           \u001b[0mproto_data\u001b[0m \u001b[0;34m=\u001b[0m \u001b[0mtf_session\u001b[0m\u001b[0;34m.\u001b[0m\u001b[0mTF_GetBuffer\u001b[0m\u001b[0;34m(\u001b[0m\u001b[0mrun_metadata_ptr\u001b[0m\u001b[0;34m)\u001b[0m\u001b[0;34m\u001b[0m\u001b[0;34m\u001b[0m\u001b[0m\n",
            "\u001b[0;31mKeyboardInterrupt\u001b[0m: "
          ]
        }
      ]
    },
    {
      "cell_type": "code",
      "metadata": {
        "id": "lRkDmYrW02Nv",
        "colab_type": "code",
        "outputId": "c8e6fbf4-9f6a-467b-9ded-7265e650a983",
        "colab": {
          "base_uri": "https://localhost:8080/",
          "height": 1220
        }
      },
      "source": [
        "#75 epoches done\n",
        "from tensorflow.keras.models import load_model\n",
        "import tensorflow as tf\n",
        "from tensorflow import keras\n",
        "model = load_model(\"/content/gdrive/My Drive/training_1/cp.ckpt\")\n",
        "cp_callback = tf.keras.callbacks.ModelCheckpoint(\"/content/gdrive/My Drive/training_1/cp.ckpt\", \n",
        "                                                 save_weights_only=False,\n",
        "                                                 verbose=1,period=5)\n",
        "\n",
        "train_datagen = ImageDataGenerator(\n",
        "        rescale=1./255,\n",
        "        shear_range=0.2,\n",
        "        zoom_range=0.2,\n",
        "        horizontal_flip=True)\n",
        "\n",
        "test_datagen = ImageDataGenerator(rescale=1./255)\n",
        "\n",
        "train_generator = train_datagen.flow_from_directory(\n",
        "        r'./tiny-imagenet-200/train/',\n",
        "        target_size=(64, 64),\n",
        "        batch_size=128,\n",
        "        class_mode='categorical')\n",
        "\n",
        "val_generator = valid_datagen.flow_from_dataframe(\n",
        "        val_data, directory='./tiny-imagenet-200/val/images/',\n",
        "        x_col='File', y_col='Class',\n",
        "        target_size=(64, 64),\n",
        "        batch_size=128,\n",
        "        class_mode='categorical')\n",
        "\n",
        "model.fit_generator(train_generator,steps_per_epoch=100000 // 128, validation_data=val_generator, validation_steps=10000 // 128, epochs=50, max_queue_size=64*2,verbose=1, callbacks = [cp_callback])"
      ],
      "execution_count": 0,
      "outputs": [
        {
          "output_type": "stream",
          "text": [
            "Found 100000 images belonging to 200 classes.\n",
            "Found 10000 images belonging to 200 classes.\n",
            "Epoch 1/50\n",
            "79/79 [==============================] - 18s 223ms/step - loss: 2.6341 - acc: 0.4151\n",
            "782/782 [==============================] - 372s 476ms/step - loss: 1.9604 - acc: 0.5082 - val_loss: 2.6341 - val_acc: 0.4151\n",
            "Epoch 2/50\n",
            "79/79 [==============================] - 17s 220ms/step - loss: 2.6476 - acc: 0.4227\n",
            "782/782 [==============================] - 377s 482ms/step - loss: 1.6676 - acc: 0.5708 - val_loss: 2.6476 - val_acc: 0.4227\n",
            "Epoch 3/50\n",
            "79/79 [==============================] - 18s 225ms/step - loss: 2.6560 - acc: 0.4224\n",
            "782/782 [==============================] - 377s 482ms/step - loss: 1.5991 - acc: 0.5868 - val_loss: 2.6560 - val_acc: 0.4224\n",
            "Epoch 4/50\n",
            "79/79 [==============================] - 17s 217ms/step - loss: 2.6965 - acc: 0.4245\n",
            "782/782 [==============================] - 372s 476ms/step - loss: 1.5601 - acc: 0.5940 - val_loss: 2.6965 - val_acc: 0.4245\n",
            "Epoch 5/50\n",
            "79/79 [==============================] - 16s 201ms/step - loss: 2.6709 - acc: 0.4232\n",
            "\n",
            "Epoch 00005: saving model to /content/gdrive/My Drive/training_1/cp.ckpt\n",
            "782/782 [==============================] - 423s 541ms/step - loss: 1.5329 - acc: 0.6007 - val_loss: 2.6709 - val_acc: 0.4232\n",
            "Epoch 6/50\n",
            "79/79 [==============================] - 16s 199ms/step - loss: 2.7049 - acc: 0.4201\n",
            "782/782 [==============================] - 322s 412ms/step - loss: 1.5156 - acc: 0.6032 - val_loss: 2.7049 - val_acc: 0.4201\n",
            "Epoch 7/50\n",
            " 93/782 [==>...........................] - ETA: 4:10 - loss: 1.4481 - acc: 0.6198"
          ],
          "name": "stdout"
        },
        {
          "output_type": "error",
          "ename": "KeyboardInterrupt",
          "evalue": "ignored",
          "traceback": [
            "\u001b[0;31m---------------------------------------------------------------------------\u001b[0m",
            "\u001b[0;31mKeyboardInterrupt\u001b[0m                         Traceback (most recent call last)",
            "\u001b[0;32m<ipython-input-14-65cd2334426b>\u001b[0m in \u001b[0;36m<module>\u001b[0;34m()\u001b[0m\n\u001b[1;32m     28\u001b[0m         class_mode='categorical')\n\u001b[1;32m     29\u001b[0m \u001b[0;34m\u001b[0m\u001b[0m\n\u001b[0;32m---> 30\u001b[0;31m \u001b[0mmodel\u001b[0m\u001b[0;34m.\u001b[0m\u001b[0mfit_generator\u001b[0m\u001b[0;34m(\u001b[0m\u001b[0mtrain_generator\u001b[0m\u001b[0;34m,\u001b[0m\u001b[0msteps_per_epoch\u001b[0m\u001b[0;34m=\u001b[0m\u001b[0;36m100000\u001b[0m \u001b[0;34m//\u001b[0m \u001b[0;36m128\u001b[0m\u001b[0;34m,\u001b[0m \u001b[0mvalidation_data\u001b[0m\u001b[0;34m=\u001b[0m\u001b[0mval_generator\u001b[0m\u001b[0;34m,\u001b[0m \u001b[0mvalidation_steps\u001b[0m\u001b[0;34m=\u001b[0m\u001b[0;36m10000\u001b[0m \u001b[0;34m//\u001b[0m \u001b[0;36m128\u001b[0m\u001b[0;34m,\u001b[0m \u001b[0mepochs\u001b[0m\u001b[0;34m=\u001b[0m\u001b[0;36m50\u001b[0m\u001b[0;34m,\u001b[0m \u001b[0mmax_queue_size\u001b[0m\u001b[0;34m=\u001b[0m\u001b[0;36m64\u001b[0m\u001b[0;34m*\u001b[0m\u001b[0;36m2\u001b[0m\u001b[0;34m,\u001b[0m\u001b[0mverbose\u001b[0m\u001b[0;34m=\u001b[0m\u001b[0;36m1\u001b[0m\u001b[0;34m,\u001b[0m \u001b[0mcallbacks\u001b[0m \u001b[0;34m=\u001b[0m \u001b[0;34m[\u001b[0m\u001b[0mcp_callback\u001b[0m\u001b[0;34m]\u001b[0m\u001b[0;34m)\u001b[0m\u001b[0;34m\u001b[0m\u001b[0;34m\u001b[0m\u001b[0m\n\u001b[0m",
            "\u001b[0;32m/usr/local/lib/python3.6/dist-packages/tensorflow/python/keras/engine/training.py\u001b[0m in \u001b[0;36mfit_generator\u001b[0;34m(self, generator, steps_per_epoch, epochs, verbose, callbacks, validation_data, validation_steps, class_weight, max_queue_size, workers, use_multiprocessing, shuffle, initial_epoch)\u001b[0m\n\u001b[1;32m   1424\u001b[0m         \u001b[0muse_multiprocessing\u001b[0m\u001b[0;34m=\u001b[0m\u001b[0muse_multiprocessing\u001b[0m\u001b[0;34m,\u001b[0m\u001b[0;34m\u001b[0m\u001b[0;34m\u001b[0m\u001b[0m\n\u001b[1;32m   1425\u001b[0m         \u001b[0mshuffle\u001b[0m\u001b[0;34m=\u001b[0m\u001b[0mshuffle\u001b[0m\u001b[0;34m,\u001b[0m\u001b[0;34m\u001b[0m\u001b[0;34m\u001b[0m\u001b[0m\n\u001b[0;32m-> 1426\u001b[0;31m         initial_epoch=initial_epoch)\n\u001b[0m\u001b[1;32m   1427\u001b[0m \u001b[0;34m\u001b[0m\u001b[0m\n\u001b[1;32m   1428\u001b[0m   def evaluate_generator(self,\n",
            "\u001b[0;32m/usr/local/lib/python3.6/dist-packages/tensorflow/python/keras/engine/training_generator.py\u001b[0m in \u001b[0;36mmodel_iteration\u001b[0;34m(model, data, steps_per_epoch, epochs, verbose, callbacks, validation_data, validation_steps, class_weight, max_queue_size, workers, use_multiprocessing, shuffle, initial_epoch, mode, batch_size, **kwargs)\u001b[0m\n\u001b[1;32m    189\u001b[0m       \u001b[0mprogbar\u001b[0m\u001b[0;34m.\u001b[0m\u001b[0mon_batch_begin\u001b[0m\u001b[0;34m(\u001b[0m\u001b[0mstep\u001b[0m\u001b[0;34m,\u001b[0m \u001b[0mbatch_logs\u001b[0m\u001b[0;34m)\u001b[0m\u001b[0;34m\u001b[0m\u001b[0;34m\u001b[0m\u001b[0m\n\u001b[1;32m    190\u001b[0m \u001b[0;34m\u001b[0m\u001b[0m\n\u001b[0;32m--> 191\u001b[0;31m       \u001b[0mbatch_outs\u001b[0m \u001b[0;34m=\u001b[0m \u001b[0mbatch_function\u001b[0m\u001b[0;34m(\u001b[0m\u001b[0;34m*\u001b[0m\u001b[0mbatch_data\u001b[0m\u001b[0;34m)\u001b[0m\u001b[0;34m\u001b[0m\u001b[0;34m\u001b[0m\u001b[0m\n\u001b[0m\u001b[1;32m    192\u001b[0m       \u001b[0;32mif\u001b[0m \u001b[0;32mnot\u001b[0m \u001b[0misinstance\u001b[0m\u001b[0;34m(\u001b[0m\u001b[0mbatch_outs\u001b[0m\u001b[0;34m,\u001b[0m \u001b[0mlist\u001b[0m\u001b[0;34m)\u001b[0m\u001b[0;34m:\u001b[0m\u001b[0;34m\u001b[0m\u001b[0;34m\u001b[0m\u001b[0m\n\u001b[1;32m    193\u001b[0m         \u001b[0mbatch_outs\u001b[0m \u001b[0;34m=\u001b[0m \u001b[0;34m[\u001b[0m\u001b[0mbatch_outs\u001b[0m\u001b[0;34m]\u001b[0m\u001b[0;34m\u001b[0m\u001b[0;34m\u001b[0m\u001b[0m\n",
            "\u001b[0;32m/usr/local/lib/python3.6/dist-packages/tensorflow/python/keras/engine/training.py\u001b[0m in \u001b[0;36mtrain_on_batch\u001b[0;34m(self, x, y, sample_weight, class_weight, reset_metrics)\u001b[0m\n\u001b[1;32m   1189\u001b[0m       \u001b[0;32melse\u001b[0m\u001b[0;34m:\u001b[0m\u001b[0;34m\u001b[0m\u001b[0;34m\u001b[0m\u001b[0m\n\u001b[1;32m   1190\u001b[0m         \u001b[0mself\u001b[0m\u001b[0;34m.\u001b[0m\u001b[0m_make_fit_function\u001b[0m\u001b[0;34m(\u001b[0m\u001b[0;34m)\u001b[0m\u001b[0;34m\u001b[0m\u001b[0;34m\u001b[0m\u001b[0m\n\u001b[0;32m-> 1191\u001b[0;31m         \u001b[0moutputs\u001b[0m \u001b[0;34m=\u001b[0m \u001b[0mself\u001b[0m\u001b[0;34m.\u001b[0m\u001b[0m_fit_function\u001b[0m\u001b[0;34m(\u001b[0m\u001b[0mins\u001b[0m\u001b[0;34m)\u001b[0m  \u001b[0;31m# pylint: disable=not-callable\u001b[0m\u001b[0;34m\u001b[0m\u001b[0;34m\u001b[0m\u001b[0m\n\u001b[0m\u001b[1;32m   1192\u001b[0m \u001b[0;34m\u001b[0m\u001b[0m\n\u001b[1;32m   1193\u001b[0m     \u001b[0;32mif\u001b[0m \u001b[0mreset_metrics\u001b[0m\u001b[0;34m:\u001b[0m\u001b[0;34m\u001b[0m\u001b[0;34m\u001b[0m\u001b[0m\n",
            "\u001b[0;32m/usr/local/lib/python3.6/dist-packages/tensorflow/python/keras/backend.py\u001b[0m in \u001b[0;36m__call__\u001b[0;34m(self, inputs)\u001b[0m\n\u001b[1;32m   3074\u001b[0m \u001b[0;34m\u001b[0m\u001b[0m\n\u001b[1;32m   3075\u001b[0m     fetched = self._callable_fn(*array_vals,\n\u001b[0;32m-> 3076\u001b[0;31m                                 run_metadata=self.run_metadata)\n\u001b[0m\u001b[1;32m   3077\u001b[0m     \u001b[0mself\u001b[0m\u001b[0;34m.\u001b[0m\u001b[0m_call_fetch_callbacks\u001b[0m\u001b[0;34m(\u001b[0m\u001b[0mfetched\u001b[0m\u001b[0;34m[\u001b[0m\u001b[0;34m-\u001b[0m\u001b[0mlen\u001b[0m\u001b[0;34m(\u001b[0m\u001b[0mself\u001b[0m\u001b[0;34m.\u001b[0m\u001b[0m_fetches\u001b[0m\u001b[0;34m)\u001b[0m\u001b[0;34m:\u001b[0m\u001b[0;34m]\u001b[0m\u001b[0;34m)\u001b[0m\u001b[0;34m\u001b[0m\u001b[0;34m\u001b[0m\u001b[0m\n\u001b[1;32m   3078\u001b[0m     return nest.pack_sequence_as(self._outputs_structure,\n",
            "\u001b[0;32m/usr/local/lib/python3.6/dist-packages/tensorflow/python/client/session.py\u001b[0m in \u001b[0;36m__call__\u001b[0;34m(self, *args, **kwargs)\u001b[0m\n\u001b[1;32m   1437\u001b[0m           ret = tf_session.TF_SessionRunCallable(\n\u001b[1;32m   1438\u001b[0m               \u001b[0mself\u001b[0m\u001b[0;34m.\u001b[0m\u001b[0m_session\u001b[0m\u001b[0;34m.\u001b[0m\u001b[0m_session\u001b[0m\u001b[0;34m,\u001b[0m \u001b[0mself\u001b[0m\u001b[0;34m.\u001b[0m\u001b[0m_handle\u001b[0m\u001b[0;34m,\u001b[0m \u001b[0margs\u001b[0m\u001b[0;34m,\u001b[0m \u001b[0mstatus\u001b[0m\u001b[0;34m,\u001b[0m\u001b[0;34m\u001b[0m\u001b[0;34m\u001b[0m\u001b[0m\n\u001b[0;32m-> 1439\u001b[0;31m               run_metadata_ptr)\n\u001b[0m\u001b[1;32m   1440\u001b[0m         \u001b[0;32mif\u001b[0m \u001b[0mrun_metadata\u001b[0m\u001b[0;34m:\u001b[0m\u001b[0;34m\u001b[0m\u001b[0;34m\u001b[0m\u001b[0m\n\u001b[1;32m   1441\u001b[0m           \u001b[0mproto_data\u001b[0m \u001b[0;34m=\u001b[0m \u001b[0mtf_session\u001b[0m\u001b[0;34m.\u001b[0m\u001b[0mTF_GetBuffer\u001b[0m\u001b[0;34m(\u001b[0m\u001b[0mrun_metadata_ptr\u001b[0m\u001b[0;34m)\u001b[0m\u001b[0;34m\u001b[0m\u001b[0;34m\u001b[0m\u001b[0m\n",
            "\u001b[0;31mKeyboardInterrupt\u001b[0m: "
          ]
        }
      ]
    },
    {
      "cell_type": "code",
      "metadata": {
        "id": "QFRlfwsTgK87",
        "colab_type": "code",
        "outputId": "67d6015e-92a6-4805-caa5-a25867084e5c",
        "colab": {
          "base_uri": "https://localhost:8080/",
          "height": 1679
        }
      },
      "source": [
        "#80 epoches done\n",
        "from tensorflow.keras.models import load_model\n",
        "import tensorflow as tf\n",
        "from tensorflow import keras\n",
        "model = load_model(\"/content/gdrive/My Drive/training_1/cp.ckpt\")\n",
        "cp_callback = tf.keras.callbacks.ModelCheckpoint(\"/content/gdrive/My Drive/training_1/cp.ckpt\", \n",
        "                                                 save_weights_only=False,\n",
        "                                                 verbose=1,period=5)\n",
        "\n",
        "train_datagen = ImageDataGenerator(\n",
        "        rescale=1./255,\n",
        "        shear_range=0.2,\n",
        "        zoom_range=0.2,\n",
        "        rotation_range=60,\n",
        "        horizontal_flip=True)\n",
        "\n",
        "test_datagen = ImageDataGenerator(rescale=1./255)\n",
        "\n",
        "train_generator = train_datagen.flow_from_directory(\n",
        "        r'./tiny-imagenet-200/train/',\n",
        "        target_size=(64, 64),\n",
        "        batch_size=256,\n",
        "        class_mode='categorical')\n",
        "\n",
        "val_generator = valid_datagen.flow_from_dataframe(\n",
        "        val_data, directory='./tiny-imagenet-200/val/images/',\n",
        "        x_col='File', y_col='Class',\n",
        "        target_size=(64, 64),\n",
        "        batch_size=256,\n",
        "        class_mode='categorical')\n",
        "\n",
        "model.fit_generator(train_generator,steps_per_epoch=100000 // 256, validation_data=val_generator, validation_steps=10000 // 256, epochs=50, max_queue_size=64*2,verbose=1, callbacks = [cp_callback])"
      ],
      "execution_count": 0,
      "outputs": [
        {
          "output_type": "stream",
          "text": [
            "Found 100000 images belonging to 200 classes.\n",
            "Found 10000 images belonging to 200 classes.\n",
            "Epoch 1/50\n",
            "40/40 [==============================] - 12s 293ms/step - loss: 2.9022 - acc: 0.3587\n",
            "391/391 [==============================] - 306s 784ms/step - loss: 2.4110 - acc: 0.4231 - val_loss: 2.9022 - val_acc: 0.3587\n",
            "Epoch 2/50\n",
            "40/40 [==============================] - 11s 281ms/step - loss: 2.7169 - acc: 0.3897\n",
            "391/391 [==============================] - 270s 691ms/step - loss: 2.1962 - acc: 0.4649 - val_loss: 2.7169 - val_acc: 0.3897\n",
            "Epoch 3/50\n",
            "40/40 [==============================] - 11s 285ms/step - loss: 2.6861 - acc: 0.3978\n",
            "391/391 [==============================] - 271s 693ms/step - loss: 2.1275 - acc: 0.4776 - val_loss: 2.6861 - val_acc: 0.3978\n",
            "Epoch 4/50\n",
            "40/40 [==============================] - 11s 282ms/step - loss: 2.6866 - acc: 0.3987\n",
            "391/391 [==============================] - 270s 689ms/step - loss: 2.1013 - acc: 0.4841 - val_loss: 2.6866 - val_acc: 0.3987\n",
            "Epoch 5/50\n",
            "40/40 [==============================] - 11s 281ms/step - loss: 2.6667 - acc: 0.4059\n",
            "\n",
            "Epoch 00005: saving model to /content/gdrive/My Drive/training_1/cp.ckpt\n",
            "391/391 [==============================] - 292s 746ms/step - loss: 2.0708 - acc: 0.4891 - val_loss: 2.6667 - val_acc: 0.4059\n",
            "Epoch 6/50\n",
            "40/40 [==============================] - 11s 281ms/step - loss: 2.7093 - acc: 0.4019\n",
            "391/391 [==============================] - 257s 657ms/step - loss: 2.0490 - acc: 0.4939 - val_loss: 2.7093 - val_acc: 0.4019\n",
            "Epoch 7/50\n",
            "40/40 [==============================] - 11s 287ms/step - loss: 2.7152 - acc: 0.4049\n",
            "391/391 [==============================] - 271s 694ms/step - loss: 2.0369 - acc: 0.4969 - val_loss: 2.7152 - val_acc: 0.4049\n",
            "Epoch 8/50\n",
            "40/40 [==============================] - 11s 283ms/step - loss: 2.8297 - acc: 0.3933\n",
            "391/391 [==============================] - 272s 695ms/step - loss: 2.0274 - acc: 0.4994 - val_loss: 2.8297 - val_acc: 0.3933\n",
            "Epoch 9/50\n",
            " 48/391 [==>...........................] - ETA: 3:12 - loss: 2.0011 - acc: 0.4984"
          ],
          "name": "stdout"
        },
        {
          "output_type": "error",
          "ename": "KeyboardInterrupt",
          "evalue": "ignored",
          "traceback": [
            "\u001b[0;31m---------------------------------------------------------------------------\u001b[0m",
            "\u001b[0;31mKeyboardInterrupt\u001b[0m                         Traceback (most recent call last)",
            "\u001b[0;32m<ipython-input-10-bba6404c704e>\u001b[0m in \u001b[0;36m<module>\u001b[0;34m()\u001b[0m\n\u001b[1;32m     29\u001b[0m         class_mode='categorical')\n\u001b[1;32m     30\u001b[0m \u001b[0;34m\u001b[0m\u001b[0m\n\u001b[0;32m---> 31\u001b[0;31m \u001b[0mmodel\u001b[0m\u001b[0;34m.\u001b[0m\u001b[0mfit_generator\u001b[0m\u001b[0;34m(\u001b[0m\u001b[0mtrain_generator\u001b[0m\u001b[0;34m,\u001b[0m\u001b[0msteps_per_epoch\u001b[0m\u001b[0;34m=\u001b[0m\u001b[0;36m100000\u001b[0m \u001b[0;34m//\u001b[0m \u001b[0;36m256\u001b[0m\u001b[0;34m,\u001b[0m \u001b[0mvalidation_data\u001b[0m\u001b[0;34m=\u001b[0m\u001b[0mval_generator\u001b[0m\u001b[0;34m,\u001b[0m \u001b[0mvalidation_steps\u001b[0m\u001b[0;34m=\u001b[0m\u001b[0;36m10000\u001b[0m \u001b[0;34m//\u001b[0m \u001b[0;36m256\u001b[0m\u001b[0;34m,\u001b[0m \u001b[0mepochs\u001b[0m\u001b[0;34m=\u001b[0m\u001b[0;36m50\u001b[0m\u001b[0;34m,\u001b[0m \u001b[0mmax_queue_size\u001b[0m\u001b[0;34m=\u001b[0m\u001b[0;36m64\u001b[0m\u001b[0;34m*\u001b[0m\u001b[0;36m2\u001b[0m\u001b[0;34m,\u001b[0m\u001b[0mverbose\u001b[0m\u001b[0;34m=\u001b[0m\u001b[0;36m1\u001b[0m\u001b[0;34m,\u001b[0m \u001b[0mcallbacks\u001b[0m \u001b[0;34m=\u001b[0m \u001b[0;34m[\u001b[0m\u001b[0mcp_callback\u001b[0m\u001b[0;34m]\u001b[0m\u001b[0;34m)\u001b[0m\u001b[0;34m\u001b[0m\u001b[0;34m\u001b[0m\u001b[0m\n\u001b[0m",
            "\u001b[0;32m/usr/local/lib/python3.6/dist-packages/tensorflow/python/keras/engine/training.py\u001b[0m in \u001b[0;36mfit_generator\u001b[0;34m(self, generator, steps_per_epoch, epochs, verbose, callbacks, validation_data, validation_steps, class_weight, max_queue_size, workers, use_multiprocessing, shuffle, initial_epoch)\u001b[0m\n\u001b[1;32m   1424\u001b[0m         \u001b[0muse_multiprocessing\u001b[0m\u001b[0;34m=\u001b[0m\u001b[0muse_multiprocessing\u001b[0m\u001b[0;34m,\u001b[0m\u001b[0;34m\u001b[0m\u001b[0;34m\u001b[0m\u001b[0m\n\u001b[1;32m   1425\u001b[0m         \u001b[0mshuffle\u001b[0m\u001b[0;34m=\u001b[0m\u001b[0mshuffle\u001b[0m\u001b[0;34m,\u001b[0m\u001b[0;34m\u001b[0m\u001b[0;34m\u001b[0m\u001b[0m\n\u001b[0;32m-> 1426\u001b[0;31m         initial_epoch=initial_epoch)\n\u001b[0m\u001b[1;32m   1427\u001b[0m \u001b[0;34m\u001b[0m\u001b[0m\n\u001b[1;32m   1428\u001b[0m   def evaluate_generator(self,\n",
            "\u001b[0;32m/usr/local/lib/python3.6/dist-packages/tensorflow/python/keras/engine/training_generator.py\u001b[0m in \u001b[0;36mmodel_iteration\u001b[0;34m(model, data, steps_per_epoch, epochs, verbose, callbacks, validation_data, validation_steps, class_weight, max_queue_size, workers, use_multiprocessing, shuffle, initial_epoch, mode, batch_size, **kwargs)\u001b[0m\n\u001b[1;32m    175\u001b[0m \u001b[0;34m\u001b[0m\u001b[0m\n\u001b[1;32m    176\u001b[0m     \u001b[0;32mfor\u001b[0m \u001b[0mstep\u001b[0m \u001b[0;32min\u001b[0m \u001b[0mrange\u001b[0m\u001b[0;34m(\u001b[0m\u001b[0msteps_per_epoch\u001b[0m\u001b[0;34m)\u001b[0m\u001b[0;34m:\u001b[0m\u001b[0;34m\u001b[0m\u001b[0;34m\u001b[0m\u001b[0m\n\u001b[0;32m--> 177\u001b[0;31m       \u001b[0mbatch_data\u001b[0m \u001b[0;34m=\u001b[0m \u001b[0m_get_next_batch\u001b[0m\u001b[0;34m(\u001b[0m\u001b[0moutput_generator\u001b[0m\u001b[0;34m,\u001b[0m \u001b[0mmode\u001b[0m\u001b[0;34m)\u001b[0m\u001b[0;34m\u001b[0m\u001b[0;34m\u001b[0m\u001b[0m\n\u001b[0m\u001b[1;32m    178\u001b[0m       \u001b[0;32mif\u001b[0m \u001b[0mbatch_data\u001b[0m \u001b[0;32mis\u001b[0m \u001b[0;32mNone\u001b[0m\u001b[0;34m:\u001b[0m\u001b[0;34m\u001b[0m\u001b[0;34m\u001b[0m\u001b[0m\n\u001b[1;32m    179\u001b[0m         \u001b[0mcallbacks\u001b[0m\u001b[0;34m.\u001b[0m\u001b[0mmodel\u001b[0m\u001b[0;34m.\u001b[0m\u001b[0mstop_training\u001b[0m \u001b[0;34m=\u001b[0m \u001b[0;32mTrue\u001b[0m\u001b[0;34m\u001b[0m\u001b[0;34m\u001b[0m\u001b[0m\n",
            "\u001b[0;32m/usr/local/lib/python3.6/dist-packages/tensorflow/python/keras/engine/training_generator.py\u001b[0m in \u001b[0;36m_get_next_batch\u001b[0;34m(output_generator, mode)\u001b[0m\n\u001b[1;32m    256\u001b[0m   \u001b[0;34m\"\"\"Retrieves the next batch of input data.\"\"\"\u001b[0m\u001b[0;34m\u001b[0m\u001b[0;34m\u001b[0m\u001b[0m\n\u001b[1;32m    257\u001b[0m   \u001b[0;32mtry\u001b[0m\u001b[0;34m:\u001b[0m\u001b[0;34m\u001b[0m\u001b[0;34m\u001b[0m\u001b[0m\n\u001b[0;32m--> 258\u001b[0;31m     \u001b[0mgenerator_output\u001b[0m \u001b[0;34m=\u001b[0m \u001b[0mnext\u001b[0m\u001b[0;34m(\u001b[0m\u001b[0moutput_generator\u001b[0m\u001b[0;34m)\u001b[0m\u001b[0;34m\u001b[0m\u001b[0;34m\u001b[0m\u001b[0m\n\u001b[0m\u001b[1;32m    259\u001b[0m   \u001b[0;32mexcept\u001b[0m \u001b[0;34m(\u001b[0m\u001b[0merrors\u001b[0m\u001b[0;34m.\u001b[0m\u001b[0mOutOfRangeError\u001b[0m\u001b[0;34m,\u001b[0m \u001b[0mStopIteration\u001b[0m\u001b[0;34m)\u001b[0m\u001b[0;34m:\u001b[0m\u001b[0;34m\u001b[0m\u001b[0;34m\u001b[0m\u001b[0m\n\u001b[1;32m    260\u001b[0m     \u001b[0;31m# Returning `None` will trigger looping to stop.\u001b[0m\u001b[0;34m\u001b[0m\u001b[0;34m\u001b[0m\u001b[0;34m\u001b[0m\u001b[0m\n",
            "\u001b[0;32m/usr/local/lib/python3.6/dist-packages/tensorflow/python/keras/utils/data_utils.py\u001b[0m in \u001b[0;36mget\u001b[0;34m(self)\u001b[0m\n\u001b[1;32m    647\u001b[0m     \u001b[0;32mtry\u001b[0m\u001b[0;34m:\u001b[0m\u001b[0;34m\u001b[0m\u001b[0;34m\u001b[0m\u001b[0m\n\u001b[1;32m    648\u001b[0m       \u001b[0;32mwhile\u001b[0m \u001b[0mself\u001b[0m\u001b[0;34m.\u001b[0m\u001b[0mis_running\u001b[0m\u001b[0;34m(\u001b[0m\u001b[0;34m)\u001b[0m\u001b[0;34m:\u001b[0m\u001b[0;34m\u001b[0m\u001b[0;34m\u001b[0m\u001b[0m\n\u001b[0;32m--> 649\u001b[0;31m         \u001b[0minputs\u001b[0m \u001b[0;34m=\u001b[0m \u001b[0mself\u001b[0m\u001b[0;34m.\u001b[0m\u001b[0mqueue\u001b[0m\u001b[0;34m.\u001b[0m\u001b[0mget\u001b[0m\u001b[0;34m(\u001b[0m\u001b[0mblock\u001b[0m\u001b[0;34m=\u001b[0m\u001b[0;32mTrue\u001b[0m\u001b[0;34m)\u001b[0m\u001b[0;34m.\u001b[0m\u001b[0mget\u001b[0m\u001b[0;34m(\u001b[0m\u001b[0;34m)\u001b[0m\u001b[0;34m\u001b[0m\u001b[0;34m\u001b[0m\u001b[0m\n\u001b[0m\u001b[1;32m    650\u001b[0m         \u001b[0mself\u001b[0m\u001b[0;34m.\u001b[0m\u001b[0mqueue\u001b[0m\u001b[0;34m.\u001b[0m\u001b[0mtask_done\u001b[0m\u001b[0;34m(\u001b[0m\u001b[0;34m)\u001b[0m\u001b[0;34m\u001b[0m\u001b[0;34m\u001b[0m\u001b[0m\n\u001b[1;32m    651\u001b[0m         \u001b[0;32mif\u001b[0m \u001b[0minputs\u001b[0m \u001b[0;32mis\u001b[0m \u001b[0;32mnot\u001b[0m \u001b[0;32mNone\u001b[0m\u001b[0;34m:\u001b[0m\u001b[0;34m\u001b[0m\u001b[0;34m\u001b[0m\u001b[0m\n",
            "\u001b[0;32m/usr/lib/python3.6/multiprocessing/pool.py\u001b[0m in \u001b[0;36mget\u001b[0;34m(self, timeout)\u001b[0m\n\u001b[1;32m    662\u001b[0m \u001b[0;34m\u001b[0m\u001b[0m\n\u001b[1;32m    663\u001b[0m     \u001b[0;32mdef\u001b[0m \u001b[0mget\u001b[0m\u001b[0;34m(\u001b[0m\u001b[0mself\u001b[0m\u001b[0;34m,\u001b[0m \u001b[0mtimeout\u001b[0m\u001b[0;34m=\u001b[0m\u001b[0;32mNone\u001b[0m\u001b[0;34m)\u001b[0m\u001b[0;34m:\u001b[0m\u001b[0;34m\u001b[0m\u001b[0;34m\u001b[0m\u001b[0m\n\u001b[0;32m--> 664\u001b[0;31m         \u001b[0mself\u001b[0m\u001b[0;34m.\u001b[0m\u001b[0mwait\u001b[0m\u001b[0;34m(\u001b[0m\u001b[0mtimeout\u001b[0m\u001b[0;34m)\u001b[0m\u001b[0;34m\u001b[0m\u001b[0;34m\u001b[0m\u001b[0m\n\u001b[0m\u001b[1;32m    665\u001b[0m         \u001b[0;32mif\u001b[0m \u001b[0;32mnot\u001b[0m \u001b[0mself\u001b[0m\u001b[0;34m.\u001b[0m\u001b[0mready\u001b[0m\u001b[0;34m(\u001b[0m\u001b[0;34m)\u001b[0m\u001b[0;34m:\u001b[0m\u001b[0;34m\u001b[0m\u001b[0;34m\u001b[0m\u001b[0m\n\u001b[1;32m    666\u001b[0m             \u001b[0;32mraise\u001b[0m \u001b[0mTimeoutError\u001b[0m\u001b[0;34m\u001b[0m\u001b[0;34m\u001b[0m\u001b[0m\n",
            "\u001b[0;32m/usr/lib/python3.6/multiprocessing/pool.py\u001b[0m in \u001b[0;36mwait\u001b[0;34m(self, timeout)\u001b[0m\n\u001b[1;32m    659\u001b[0m \u001b[0;34m\u001b[0m\u001b[0m\n\u001b[1;32m    660\u001b[0m     \u001b[0;32mdef\u001b[0m \u001b[0mwait\u001b[0m\u001b[0;34m(\u001b[0m\u001b[0mself\u001b[0m\u001b[0;34m,\u001b[0m \u001b[0mtimeout\u001b[0m\u001b[0;34m=\u001b[0m\u001b[0;32mNone\u001b[0m\u001b[0;34m)\u001b[0m\u001b[0;34m:\u001b[0m\u001b[0;34m\u001b[0m\u001b[0;34m\u001b[0m\u001b[0m\n\u001b[0;32m--> 661\u001b[0;31m         \u001b[0mself\u001b[0m\u001b[0;34m.\u001b[0m\u001b[0m_event\u001b[0m\u001b[0;34m.\u001b[0m\u001b[0mwait\u001b[0m\u001b[0;34m(\u001b[0m\u001b[0mtimeout\u001b[0m\u001b[0;34m)\u001b[0m\u001b[0;34m\u001b[0m\u001b[0;34m\u001b[0m\u001b[0m\n\u001b[0m\u001b[1;32m    662\u001b[0m \u001b[0;34m\u001b[0m\u001b[0m\n\u001b[1;32m    663\u001b[0m     \u001b[0;32mdef\u001b[0m \u001b[0mget\u001b[0m\u001b[0;34m(\u001b[0m\u001b[0mself\u001b[0m\u001b[0;34m,\u001b[0m \u001b[0mtimeout\u001b[0m\u001b[0;34m=\u001b[0m\u001b[0;32mNone\u001b[0m\u001b[0;34m)\u001b[0m\u001b[0;34m:\u001b[0m\u001b[0;34m\u001b[0m\u001b[0;34m\u001b[0m\u001b[0m\n",
            "\u001b[0;32m/usr/lib/python3.6/threading.py\u001b[0m in \u001b[0;36mwait\u001b[0;34m(self, timeout)\u001b[0m\n\u001b[1;32m    549\u001b[0m             \u001b[0msignaled\u001b[0m \u001b[0;34m=\u001b[0m \u001b[0mself\u001b[0m\u001b[0;34m.\u001b[0m\u001b[0m_flag\u001b[0m\u001b[0;34m\u001b[0m\u001b[0;34m\u001b[0m\u001b[0m\n\u001b[1;32m    550\u001b[0m             \u001b[0;32mif\u001b[0m \u001b[0;32mnot\u001b[0m \u001b[0msignaled\u001b[0m\u001b[0;34m:\u001b[0m\u001b[0;34m\u001b[0m\u001b[0;34m\u001b[0m\u001b[0m\n\u001b[0;32m--> 551\u001b[0;31m                 \u001b[0msignaled\u001b[0m \u001b[0;34m=\u001b[0m \u001b[0mself\u001b[0m\u001b[0;34m.\u001b[0m\u001b[0m_cond\u001b[0m\u001b[0;34m.\u001b[0m\u001b[0mwait\u001b[0m\u001b[0;34m(\u001b[0m\u001b[0mtimeout\u001b[0m\u001b[0;34m)\u001b[0m\u001b[0;34m\u001b[0m\u001b[0;34m\u001b[0m\u001b[0m\n\u001b[0m\u001b[1;32m    552\u001b[0m             \u001b[0;32mreturn\u001b[0m \u001b[0msignaled\u001b[0m\u001b[0;34m\u001b[0m\u001b[0;34m\u001b[0m\u001b[0m\n\u001b[1;32m    553\u001b[0m \u001b[0;34m\u001b[0m\u001b[0m\n",
            "\u001b[0;32m/usr/lib/python3.6/threading.py\u001b[0m in \u001b[0;36mwait\u001b[0;34m(self, timeout)\u001b[0m\n\u001b[1;32m    293\u001b[0m         \u001b[0;32mtry\u001b[0m\u001b[0;34m:\u001b[0m    \u001b[0;31m# restore state no matter what (e.g., KeyboardInterrupt)\u001b[0m\u001b[0;34m\u001b[0m\u001b[0;34m\u001b[0m\u001b[0m\n\u001b[1;32m    294\u001b[0m             \u001b[0;32mif\u001b[0m \u001b[0mtimeout\u001b[0m \u001b[0;32mis\u001b[0m \u001b[0;32mNone\u001b[0m\u001b[0;34m:\u001b[0m\u001b[0;34m\u001b[0m\u001b[0;34m\u001b[0m\u001b[0m\n\u001b[0;32m--> 295\u001b[0;31m                 \u001b[0mwaiter\u001b[0m\u001b[0;34m.\u001b[0m\u001b[0macquire\u001b[0m\u001b[0;34m(\u001b[0m\u001b[0;34m)\u001b[0m\u001b[0;34m\u001b[0m\u001b[0;34m\u001b[0m\u001b[0m\n\u001b[0m\u001b[1;32m    296\u001b[0m                 \u001b[0mgotit\u001b[0m \u001b[0;34m=\u001b[0m \u001b[0;32mTrue\u001b[0m\u001b[0;34m\u001b[0m\u001b[0;34m\u001b[0m\u001b[0m\n\u001b[1;32m    297\u001b[0m             \u001b[0;32melse\u001b[0m\u001b[0;34m:\u001b[0m\u001b[0;34m\u001b[0m\u001b[0;34m\u001b[0m\u001b[0m\n",
            "\u001b[0;31mKeyboardInterrupt\u001b[0m: "
          ]
        }
      ]
    },
    {
      "cell_type": "code",
      "metadata": {
        "id": "FNySm-nDM3cd",
        "colab_type": "code",
        "outputId": "32b44cfe-f01e-4d84-820e-6bd04dcd8c8a",
        "colab": {
          "base_uri": "https://localhost:8080/",
          "height": 1560
        }
      },
      "source": [
        "#85 epoches done\n",
        "from tensorflow.keras.models import load_model\n",
        "import tensorflow as tf\n",
        "from tensorflow import keras\n",
        "model = load_model(\"/content/gdrive/My Drive/training_1/cp.ckpt\")\n",
        "cp_callback = tf.keras.callbacks.ModelCheckpoint(\"/content/gdrive/My Drive/training_1/cp.ckpt\", \n",
        "                                                 save_weights_only=False,\n",
        "                                                 verbose=1,period=5)\n",
        "\n",
        "train_datagen = ImageDataGenerator(\n",
        "        rescale=1./255,\n",
        "        shear_range=0.2,\n",
        "        zoom_range=0.1,\n",
        "        rotation_range=60,\n",
        "        zca_whitening=True,\n",
        "        horizontal_flip=True)\n",
        "\n",
        "test_datagen = ImageDataGenerator(rescale=1./255)\n",
        "\n",
        "train_generator = train_datagen.flow_from_directory(\n",
        "        r'./tiny-imagenet-200/train/',\n",
        "        target_size=(64, 64),\n",
        "        batch_size=256,\n",
        "        shuffle=True,\n",
        "        class_mode='categorical')\n",
        "\n",
        "val_generator = valid_datagen.flow_from_dataframe(\n",
        "        val_data, directory='./tiny-imagenet-200/val/images/',\n",
        "        x_col='File', y_col='Class',\n",
        "        target_size=(64, 64),\n",
        "        batch_size=256,\n",
        "        shuffle=True,\n",
        "        class_mode='categorical')\n",
        "\n",
        "model.fit_generator(train_generator,steps_per_epoch=100000 // 256, validation_data=val_generator, validation_steps=10000 // 256, epochs=50, max_queue_size=64*2,verbose=1, callbacks = [cp_callback])"
      ],
      "execution_count": 0,
      "outputs": [
        {
          "output_type": "stream",
          "text": [
            "/usr/local/lib/python3.6/dist-packages/keras_preprocessing/image/image_data_generator.py:334: UserWarning: This ImageDataGenerator specifies `zca_whitening`, which overrides setting of `featurewise_center`.\n",
            "  warnings.warn('This ImageDataGenerator specifies '\n"
          ],
          "name": "stderr"
        },
        {
          "output_type": "stream",
          "text": [
            "Found 100000 images belonging to 200 classes.\n",
            "Found 10000 images belonging to 200 classes.\n"
          ],
          "name": "stdout"
        },
        {
          "output_type": "stream",
          "text": [
            "/usr/local/lib/python3.6/dist-packages/keras_preprocessing/image/image_data_generator.py:699: UserWarning: This ImageDataGenerator specifies `featurewise_center`, but it hasn't been fit on any training data. Fit it first by calling `.fit(numpy_data)`.\n",
            "  warnings.warn('This ImageDataGenerator specifies '\n",
            "/usr/local/lib/python3.6/dist-packages/keras_preprocessing/image/image_data_generator.py:718: UserWarning: This ImageDataGenerator specifies `zca_whitening`, but it hasn't been fit on any training data. Fit it first by calling `.fit(numpy_data)`.\n",
            "  warnings.warn('This ImageDataGenerator specifies '\n"
          ],
          "name": "stderr"
        },
        {
          "output_type": "stream",
          "text": [
            "Epoch 1/50\n",
            "40/40 [==============================] - 12s 293ms/step - loss: 2.7883 - acc: 0.3839\n",
            "391/391 [==============================] - 266s 680ms/step - loss: 2.2982 - acc: 0.4462 - val_loss: 2.7883 - val_acc: 0.3839\n",
            "Epoch 2/50\n",
            "40/40 [==============================] - 11s 279ms/step - loss: 2.8856 - acc: 0.3763\n",
            "391/391 [==============================] - 266s 681ms/step - loss: 2.0923 - acc: 0.4862 - val_loss: 2.8856 - val_acc: 0.3763\n",
            "Epoch 3/50\n",
            "40/40 [==============================] - 11s 281ms/step - loss: 2.8569 - acc: 0.3808\n",
            "391/391 [==============================] - 268s 685ms/step - loss: 2.0348 - acc: 0.4957 - val_loss: 2.8569 - val_acc: 0.3808\n",
            "Epoch 4/50\n",
            "40/40 [==============================] - 11s 286ms/step - loss: 2.8740 - acc: 0.3854\n",
            "391/391 [==============================] - 269s 688ms/step - loss: 1.9940 - acc: 0.5055 - val_loss: 2.8740 - val_acc: 0.3854\n",
            "Epoch 5/50\n",
            "40/40 [==============================] - 12s 298ms/step - loss: 2.6980 - acc: 0.4032\n",
            "\n",
            "Epoch 00005: saving model to /content/gdrive/My Drive/training_1/cp.ckpt\n",
            "391/391 [==============================] - 319s 815ms/step - loss: 1.9755 - acc: 0.5095 - val_loss: 2.6980 - val_acc: 0.4032\n",
            "Epoch 6/50\n",
            "40/40 [==============================] - 11s 279ms/step - loss: 2.7257 - acc: 0.3976\n",
            "391/391 [==============================] - 234s 599ms/step - loss: 1.9550 - acc: 0.5149 - val_loss: 2.7257 - val_acc: 0.3976\n",
            "Epoch 7/50\n",
            "40/40 [==============================] - 11s 279ms/step - loss: 2.6981 - acc: 0.4067\n",
            "391/391 [==============================] - 266s 681ms/step - loss: 1.9458 - acc: 0.5164 - val_loss: 2.6981 - val_acc: 0.4067\n",
            "Epoch 8/50\n",
            "40/40 [==============================] - 11s 281ms/step - loss: 2.7162 - acc: 0.4078\n",
            "391/391 [==============================] - 266s 681ms/step - loss: 1.9298 - acc: 0.5195 - val_loss: 2.7162 - val_acc: 0.4078\n",
            "Epoch 9/50\n",
            "40/40 [==============================] - 11s 282ms/step - loss: 2.7945 - acc: 0.3940\n",
            "391/391 [==============================] - 266s 680ms/step - loss: 1.9193 - acc: 0.5211 - val_loss: 2.7945 - val_acc: 0.3940\n",
            "Epoch 10/50\n",
            "40/40 [==============================] - 11s 284ms/step - loss: 2.7618 - acc: 0.4021\n",
            "\n",
            "Epoch 00010: saving model to /content/gdrive/My Drive/training_1/cp.ckpt\n",
            "391/391 [==============================] - 271s 694ms/step - loss: 1.9169 - acc: 0.5210 - val_loss: 2.7618 - val_acc: 0.4021\n",
            "Epoch 11/50\n",
            " 10/391 [..............................] - ETA: 2:44 - loss: 1.8464 - acc: 0.5371"
          ],
          "name": "stdout"
        },
        {
          "output_type": "error",
          "ename": "KeyboardInterrupt",
          "evalue": "ignored",
          "traceback": [
            "\u001b[0;31m---------------------------------------------------------------------------\u001b[0m",
            "\u001b[0;31mKeyboardInterrupt\u001b[0m                         Traceback (most recent call last)",
            "\u001b[0;32m<ipython-input-14-619642290877>\u001b[0m in \u001b[0;36m<module>\u001b[0;34m()\u001b[0m\n\u001b[1;32m     32\u001b[0m         class_mode='categorical')\n\u001b[1;32m     33\u001b[0m \u001b[0;34m\u001b[0m\u001b[0m\n\u001b[0;32m---> 34\u001b[0;31m \u001b[0mmodel\u001b[0m\u001b[0;34m.\u001b[0m\u001b[0mfit_generator\u001b[0m\u001b[0;34m(\u001b[0m\u001b[0mtrain_generator\u001b[0m\u001b[0;34m,\u001b[0m\u001b[0msteps_per_epoch\u001b[0m\u001b[0;34m=\u001b[0m\u001b[0;36m100000\u001b[0m \u001b[0;34m//\u001b[0m \u001b[0;36m256\u001b[0m\u001b[0;34m,\u001b[0m \u001b[0mvalidation_data\u001b[0m\u001b[0;34m=\u001b[0m\u001b[0mval_generator\u001b[0m\u001b[0;34m,\u001b[0m \u001b[0mvalidation_steps\u001b[0m\u001b[0;34m=\u001b[0m\u001b[0;36m10000\u001b[0m \u001b[0;34m//\u001b[0m \u001b[0;36m256\u001b[0m\u001b[0;34m,\u001b[0m \u001b[0mepochs\u001b[0m\u001b[0;34m=\u001b[0m\u001b[0;36m50\u001b[0m\u001b[0;34m,\u001b[0m \u001b[0mmax_queue_size\u001b[0m\u001b[0;34m=\u001b[0m\u001b[0;36m64\u001b[0m\u001b[0;34m*\u001b[0m\u001b[0;36m2\u001b[0m\u001b[0;34m,\u001b[0m\u001b[0mverbose\u001b[0m\u001b[0;34m=\u001b[0m\u001b[0;36m1\u001b[0m\u001b[0;34m,\u001b[0m \u001b[0mcallbacks\u001b[0m \u001b[0;34m=\u001b[0m \u001b[0;34m[\u001b[0m\u001b[0mcp_callback\u001b[0m\u001b[0;34m]\u001b[0m\u001b[0;34m)\u001b[0m\u001b[0;34m\u001b[0m\u001b[0;34m\u001b[0m\u001b[0m\n\u001b[0m",
            "\u001b[0;32m/usr/local/lib/python3.6/dist-packages/tensorflow/python/keras/engine/training.py\u001b[0m in \u001b[0;36mfit_generator\u001b[0;34m(self, generator, steps_per_epoch, epochs, verbose, callbacks, validation_data, validation_steps, class_weight, max_queue_size, workers, use_multiprocessing, shuffle, initial_epoch)\u001b[0m\n\u001b[1;32m   1424\u001b[0m         \u001b[0muse_multiprocessing\u001b[0m\u001b[0;34m=\u001b[0m\u001b[0muse_multiprocessing\u001b[0m\u001b[0;34m,\u001b[0m\u001b[0;34m\u001b[0m\u001b[0;34m\u001b[0m\u001b[0m\n\u001b[1;32m   1425\u001b[0m         \u001b[0mshuffle\u001b[0m\u001b[0;34m=\u001b[0m\u001b[0mshuffle\u001b[0m\u001b[0;34m,\u001b[0m\u001b[0;34m\u001b[0m\u001b[0;34m\u001b[0m\u001b[0m\n\u001b[0;32m-> 1426\u001b[0;31m         initial_epoch=initial_epoch)\n\u001b[0m\u001b[1;32m   1427\u001b[0m \u001b[0;34m\u001b[0m\u001b[0m\n\u001b[1;32m   1428\u001b[0m   def evaluate_generator(self,\n",
            "\u001b[0;32m/usr/local/lib/python3.6/dist-packages/tensorflow/python/keras/engine/training_generator.py\u001b[0m in \u001b[0;36mmodel_iteration\u001b[0;34m(model, data, steps_per_epoch, epochs, verbose, callbacks, validation_data, validation_steps, class_weight, max_queue_size, workers, use_multiprocessing, shuffle, initial_epoch, mode, batch_size, **kwargs)\u001b[0m\n\u001b[1;32m    189\u001b[0m       \u001b[0mprogbar\u001b[0m\u001b[0;34m.\u001b[0m\u001b[0mon_batch_begin\u001b[0m\u001b[0;34m(\u001b[0m\u001b[0mstep\u001b[0m\u001b[0;34m,\u001b[0m \u001b[0mbatch_logs\u001b[0m\u001b[0;34m)\u001b[0m\u001b[0;34m\u001b[0m\u001b[0;34m\u001b[0m\u001b[0m\n\u001b[1;32m    190\u001b[0m \u001b[0;34m\u001b[0m\u001b[0m\n\u001b[0;32m--> 191\u001b[0;31m       \u001b[0mbatch_outs\u001b[0m \u001b[0;34m=\u001b[0m \u001b[0mbatch_function\u001b[0m\u001b[0;34m(\u001b[0m\u001b[0;34m*\u001b[0m\u001b[0mbatch_data\u001b[0m\u001b[0;34m)\u001b[0m\u001b[0;34m\u001b[0m\u001b[0;34m\u001b[0m\u001b[0m\n\u001b[0m\u001b[1;32m    192\u001b[0m       \u001b[0;32mif\u001b[0m \u001b[0;32mnot\u001b[0m \u001b[0misinstance\u001b[0m\u001b[0;34m(\u001b[0m\u001b[0mbatch_outs\u001b[0m\u001b[0;34m,\u001b[0m \u001b[0mlist\u001b[0m\u001b[0;34m)\u001b[0m\u001b[0;34m:\u001b[0m\u001b[0;34m\u001b[0m\u001b[0;34m\u001b[0m\u001b[0m\n\u001b[1;32m    193\u001b[0m         \u001b[0mbatch_outs\u001b[0m \u001b[0;34m=\u001b[0m \u001b[0;34m[\u001b[0m\u001b[0mbatch_outs\u001b[0m\u001b[0;34m]\u001b[0m\u001b[0;34m\u001b[0m\u001b[0;34m\u001b[0m\u001b[0m\n",
            "\u001b[0;32m/usr/local/lib/python3.6/dist-packages/tensorflow/python/keras/engine/training.py\u001b[0m in \u001b[0;36mtrain_on_batch\u001b[0;34m(self, x, y, sample_weight, class_weight, reset_metrics)\u001b[0m\n\u001b[1;32m   1189\u001b[0m       \u001b[0;32melse\u001b[0m\u001b[0;34m:\u001b[0m\u001b[0;34m\u001b[0m\u001b[0;34m\u001b[0m\u001b[0m\n\u001b[1;32m   1190\u001b[0m         \u001b[0mself\u001b[0m\u001b[0;34m.\u001b[0m\u001b[0m_make_fit_function\u001b[0m\u001b[0;34m(\u001b[0m\u001b[0;34m)\u001b[0m\u001b[0;34m\u001b[0m\u001b[0;34m\u001b[0m\u001b[0m\n\u001b[0;32m-> 1191\u001b[0;31m         \u001b[0moutputs\u001b[0m \u001b[0;34m=\u001b[0m \u001b[0mself\u001b[0m\u001b[0;34m.\u001b[0m\u001b[0m_fit_function\u001b[0m\u001b[0;34m(\u001b[0m\u001b[0mins\u001b[0m\u001b[0;34m)\u001b[0m  \u001b[0;31m# pylint: disable=not-callable\u001b[0m\u001b[0;34m\u001b[0m\u001b[0;34m\u001b[0m\u001b[0m\n\u001b[0m\u001b[1;32m   1192\u001b[0m \u001b[0;34m\u001b[0m\u001b[0m\n\u001b[1;32m   1193\u001b[0m     \u001b[0;32mif\u001b[0m \u001b[0mreset_metrics\u001b[0m\u001b[0;34m:\u001b[0m\u001b[0;34m\u001b[0m\u001b[0;34m\u001b[0m\u001b[0m\n",
            "\u001b[0;32m/usr/local/lib/python3.6/dist-packages/tensorflow/python/keras/backend.py\u001b[0m in \u001b[0;36m__call__\u001b[0;34m(self, inputs)\u001b[0m\n\u001b[1;32m   3074\u001b[0m \u001b[0;34m\u001b[0m\u001b[0m\n\u001b[1;32m   3075\u001b[0m     fetched = self._callable_fn(*array_vals,\n\u001b[0;32m-> 3076\u001b[0;31m                                 run_metadata=self.run_metadata)\n\u001b[0m\u001b[1;32m   3077\u001b[0m     \u001b[0mself\u001b[0m\u001b[0;34m.\u001b[0m\u001b[0m_call_fetch_callbacks\u001b[0m\u001b[0;34m(\u001b[0m\u001b[0mfetched\u001b[0m\u001b[0;34m[\u001b[0m\u001b[0;34m-\u001b[0m\u001b[0mlen\u001b[0m\u001b[0;34m(\u001b[0m\u001b[0mself\u001b[0m\u001b[0;34m.\u001b[0m\u001b[0m_fetches\u001b[0m\u001b[0;34m)\u001b[0m\u001b[0;34m:\u001b[0m\u001b[0;34m]\u001b[0m\u001b[0;34m)\u001b[0m\u001b[0;34m\u001b[0m\u001b[0;34m\u001b[0m\u001b[0m\n\u001b[1;32m   3078\u001b[0m     return nest.pack_sequence_as(self._outputs_structure,\n",
            "\u001b[0;32m/usr/local/lib/python3.6/dist-packages/tensorflow/python/client/session.py\u001b[0m in \u001b[0;36m__call__\u001b[0;34m(self, *args, **kwargs)\u001b[0m\n\u001b[1;32m   1437\u001b[0m           ret = tf_session.TF_SessionRunCallable(\n\u001b[1;32m   1438\u001b[0m               \u001b[0mself\u001b[0m\u001b[0;34m.\u001b[0m\u001b[0m_session\u001b[0m\u001b[0;34m.\u001b[0m\u001b[0m_session\u001b[0m\u001b[0;34m,\u001b[0m \u001b[0mself\u001b[0m\u001b[0;34m.\u001b[0m\u001b[0m_handle\u001b[0m\u001b[0;34m,\u001b[0m \u001b[0margs\u001b[0m\u001b[0;34m,\u001b[0m \u001b[0mstatus\u001b[0m\u001b[0;34m,\u001b[0m\u001b[0;34m\u001b[0m\u001b[0;34m\u001b[0m\u001b[0m\n\u001b[0;32m-> 1439\u001b[0;31m               run_metadata_ptr)\n\u001b[0m\u001b[1;32m   1440\u001b[0m         \u001b[0;32mif\u001b[0m \u001b[0mrun_metadata\u001b[0m\u001b[0;34m:\u001b[0m\u001b[0;34m\u001b[0m\u001b[0;34m\u001b[0m\u001b[0m\n\u001b[1;32m   1441\u001b[0m           \u001b[0mproto_data\u001b[0m \u001b[0;34m=\u001b[0m \u001b[0mtf_session\u001b[0m\u001b[0;34m.\u001b[0m\u001b[0mTF_GetBuffer\u001b[0m\u001b[0;34m(\u001b[0m\u001b[0mrun_metadata_ptr\u001b[0m\u001b[0;34m)\u001b[0m\u001b[0;34m\u001b[0m\u001b[0;34m\u001b[0m\u001b[0m\n",
            "\u001b[0;31mKeyboardInterrupt\u001b[0m: "
          ]
        }
      ]
    },
    {
      "cell_type": "code",
      "metadata": {
        "id": "xgmTJ2bsa36i",
        "colab_type": "code",
        "outputId": "09e1105b-66a0-47fc-de06-e8769cb1a944",
        "colab": {
          "base_uri": "https://localhost:8080/",
          "height": 2087
        }
      },
      "source": [
        "#95 epoches done\n",
        "from tensorflow.keras.models import load_model\n",
        "import tensorflow as tf\n",
        "from tensorflow import keras\n",
        "model = load_model(\"/content/gdrive/My Drive/training_1/cp.ckpt\")\n",
        "cp_callback = tf.keras.callbacks.ModelCheckpoint(\"/content/gdrive/My Drive/training_1/cp.ckpt\", \n",
        "                                                 save_weights_only=False,\n",
        "                                                 verbose=1,period=5)\n",
        "\n",
        "train_datagen = ImageDataGenerator(\n",
        "        rescale=1./255,\n",
        "        shear_range=0.2,\n",
        "        zoom_range=0.2,\n",
        "        horizontal_flip=True)\n",
        "\n",
        "test_datagen = ImageDataGenerator(rescale=1./255)\n",
        "\n",
        "train_generator = train_datagen.flow_from_directory(\n",
        "        r'./tiny-imagenet-200/train/',\n",
        "        target_size=(64, 64),\n",
        "        batch_size=128,\n",
        "        class_mode='categorical')\n",
        "\n",
        "val_generator = valid_datagen.flow_from_dataframe(\n",
        "        val_data, directory='./tiny-imagenet-200/val/images/',\n",
        "        x_col='File', y_col='Class',\n",
        "        target_size=(64, 64),\n",
        "        batch_size=128,\n",
        "        class_mode='categorical')\n",
        "\n",
        "model.fit_generator(train_generator,steps_per_epoch=100000 // 512, validation_data=val_generator, validation_steps=10000 // 512, epochs=50, max_queue_size=64*2,verbose=1, callbacks = [cp_callback])"
      ],
      "execution_count": 0,
      "outputs": [
        {
          "output_type": "stream",
          "text": [
            "WARNING:tensorflow:From /usr/local/lib/python3.6/dist-packages/tensorflow/python/ops/math_ops.py:3066: to_int32 (from tensorflow.python.ops.math_ops) is deprecated and will be removed in a future version.\n",
            "Instructions for updating:\n",
            "Use tf.cast instead.\n",
            "Found 100000 images belonging to 200 classes.\n",
            "Found 10000 images belonging to 200 classes.\n",
            "Epoch 1/50\n",
            "79/79 [==============================] - 24s 302ms/step - loss: 2.6184 - acc: 0.4133\n",
            "782/782 [==============================] - 414s 529ms/step - loss: 1.9446 - acc: 0.5093 - val_loss: 2.6184 - val_acc: 0.4133\n",
            "Epoch 2/50\n",
            "79/79 [==============================] - 14s 182ms/step - loss: 2.6766 - acc: 0.4123\n",
            "782/782 [==============================] - 335s 428ms/step - loss: 1.6573 - acc: 0.5725 - val_loss: 2.6766 - val_acc: 0.4123\n",
            "Epoch 3/50\n",
            "79/79 [==============================] - 15s 189ms/step - loss: 2.6119 - acc: 0.4252\n",
            "782/782 [==============================] - 350s 448ms/step - loss: 1.5768 - acc: 0.5922 - val_loss: 2.6119 - val_acc: 0.4252\n",
            "Epoch 4/50\n",
            "79/79 [==============================] - 14s 180ms/step - loss: 2.6518 - acc: 0.4178\n",
            "782/782 [==============================] - 346s 442ms/step - loss: 1.5406 - acc: 0.5998 - val_loss: 2.6518 - val_acc: 0.4178\n",
            "Epoch 5/50\n",
            "79/79 [==============================] - 14s 178ms/step - loss: 2.6346 - acc: 0.4243\n",
            "\n",
            "Epoch 00005: saving model to /content/gdrive/My Drive/training_1/cp.ckpt\n",
            "782/782 [==============================] - 349s 446ms/step - loss: 1.5015 - acc: 0.6069 - val_loss: 2.6346 - val_acc: 0.4243\n",
            "Epoch 6/50\n",
            "79/79 [==============================] - 14s 180ms/step - loss: 2.6436 - acc: 0.4230\n",
            "782/782 [==============================] - 329s 421ms/step - loss: 1.4775 - acc: 0.6115 - val_loss: 2.6436 - val_acc: 0.4230\n",
            "Epoch 7/50\n",
            "79/79 [==============================] - 15s 184ms/step - loss: 2.6706 - acc: 0.4202\n",
            "782/782 [==============================] - 335s 428ms/step - loss: 1.4535 - acc: 0.6169 - val_loss: 2.6706 - val_acc: 0.4202\n",
            "Epoch 8/50\n",
            "79/79 [==============================] - 14s 178ms/step - loss: 2.6560 - acc: 0.4261\n",
            "782/782 [==============================] - 332s 425ms/step - loss: 1.4384 - acc: 0.6202 - val_loss: 2.6560 - val_acc: 0.4261\n",
            "Epoch 9/50\n",
            "79/79 [==============================] - 14s 177ms/step - loss: 2.7138 - acc: 0.4234\n",
            "782/782 [==============================] - 331s 423ms/step - loss: 1.4176 - acc: 0.6238 - val_loss: 2.7138 - val_acc: 0.4234\n",
            "Epoch 10/50\n",
            "79/79 [==============================] - 15s 184ms/step - loss: 2.6965 - acc: 0.4215\n",
            "\n",
            "Epoch 00010: saving model to /content/gdrive/My Drive/training_1/cp.ckpt\n",
            "782/782 [==============================] - 343s 438ms/step - loss: 1.4023 - acc: 0.6278 - val_loss: 2.6965 - val_acc: 0.4215\n",
            "Epoch 11/50\n",
            "79/79 [==============================] - 14s 182ms/step - loss: 2.6978 - acc: 0.4262\n",
            "782/782 [==============================] - 341s 436ms/step - loss: 1.3883 - acc: 0.6312 - val_loss: 2.6978 - val_acc: 0.4262\n",
            "Epoch 12/50\n",
            "79/79 [==============================] - 14s 183ms/step - loss: 2.7134 - acc: 0.4244\n",
            "782/782 [==============================] - 341s 436ms/step - loss: 1.3785 - acc: 0.6332 - val_loss: 2.7134 - val_acc: 0.4244\n",
            "Epoch 13/50\n",
            "79/79 [==============================] - 15s 186ms/step - loss: 2.8238 - acc: 0.4151\n",
            "782/782 [==============================] - 346s 442ms/step - loss: 1.3675 - acc: 0.6348 - val_loss: 2.8238 - val_acc: 0.4151\n",
            "Epoch 14/50\n",
            "79/79 [==============================] - 15s 185ms/step - loss: 2.6945 - acc: 0.4309\n",
            "782/782 [==============================] - 343s 439ms/step - loss: 1.3579 - acc: 0.6370 - val_loss: 2.6945 - val_acc: 0.4309\n",
            "Epoch 15/50\n",
            "79/79 [==============================] - 15s 184ms/step - loss: 2.7334 - acc: 0.4247\n",
            "\n",
            "Epoch 00015: saving model to /content/gdrive/My Drive/training_1/cp.ckpt\n",
            "782/782 [==============================] - 348s 445ms/step - loss: 1.3481 - acc: 0.6397 - val_loss: 2.7334 - val_acc: 0.4247\n",
            "Epoch 16/50\n",
            "79/79 [==============================] - 14s 183ms/step - loss: 2.8364 - acc: 0.4126\n",
            "782/782 [==============================] - 344s 440ms/step - loss: 1.3370 - acc: 0.6417 - val_loss: 2.8364 - val_acc: 0.4126\n",
            "Epoch 17/50\n",
            "79/79 [==============================] - 14s 183ms/step - loss: 2.7757 - acc: 0.4193\n",
            "782/782 [==============================] - 344s 440ms/step - loss: 1.3358 - acc: 0.6409 - val_loss: 2.7757 - val_acc: 0.4193\n",
            "Epoch 18/50\n",
            "79/79 [==============================] - 14s 183ms/step - loss: 2.7599 - acc: 0.4224\n",
            "782/782 [==============================] - 344s 439ms/step - loss: 1.3310 - acc: 0.6439 - val_loss: 2.7599 - val_acc: 0.4224\n",
            "Epoch 19/50\n",
            "79/79 [==============================] - 14s 183ms/step - loss: 2.8340 - acc: 0.4174\n",
            "782/782 [==============================] - 343s 438ms/step - loss: 1.3155 - acc: 0.6466 - val_loss: 2.8340 - val_acc: 0.4174\n",
            "Epoch 20/50\n",
            "79/79 [==============================] - 14s 182ms/step - loss: 2.7341 - acc: 0.4296\n",
            "\n",
            "Epoch 00020: saving model to /content/gdrive/My Drive/training_1/cp.ckpt\n",
            "782/782 [==============================] - 344s 440ms/step - loss: 1.3105 - acc: 0.6473 - val_loss: 2.7341 - val_acc: 0.4296\n",
            "Epoch 21/50\n",
            "107/782 [===>..........................] - ETA: 4:05 - loss: 1.2535 - acc: 0.6603"
          ],
          "name": "stdout"
        },
        {
          "output_type": "error",
          "ename": "KeyboardInterrupt",
          "evalue": "ignored",
          "traceback": [
            "\u001b[0;31m---------------------------------------------------------------------------\u001b[0m",
            "\u001b[0;31mKeyboardInterrupt\u001b[0m                         Traceback (most recent call last)",
            "\u001b[0;32m<ipython-input-10-7878706a2487>\u001b[0m in \u001b[0;36m<module>\u001b[0;34m()\u001b[0m\n\u001b[1;32m     28\u001b[0m         class_mode='categorical')\n\u001b[1;32m     29\u001b[0m \u001b[0;34m\u001b[0m\u001b[0m\n\u001b[0;32m---> 30\u001b[0;31m \u001b[0mmodel\u001b[0m\u001b[0;34m.\u001b[0m\u001b[0mfit_generator\u001b[0m\u001b[0;34m(\u001b[0m\u001b[0mtrain_generator\u001b[0m\u001b[0;34m,\u001b[0m\u001b[0msteps_per_epoch\u001b[0m\u001b[0;34m=\u001b[0m\u001b[0;36m100000\u001b[0m \u001b[0;34m//\u001b[0m \u001b[0;36m512\u001b[0m\u001b[0;34m,\u001b[0m \u001b[0mvalidation_data\u001b[0m\u001b[0;34m=\u001b[0m\u001b[0mval_generator\u001b[0m\u001b[0;34m,\u001b[0m \u001b[0mvalidation_steps\u001b[0m\u001b[0;34m=\u001b[0m\u001b[0;36m10000\u001b[0m \u001b[0;34m//\u001b[0m \u001b[0;36m512\u001b[0m\u001b[0;34m,\u001b[0m \u001b[0mepochs\u001b[0m\u001b[0;34m=\u001b[0m\u001b[0;36m50\u001b[0m\u001b[0;34m,\u001b[0m \u001b[0mmax_queue_size\u001b[0m\u001b[0;34m=\u001b[0m\u001b[0;36m64\u001b[0m\u001b[0;34m*\u001b[0m\u001b[0;36m2\u001b[0m\u001b[0;34m,\u001b[0m\u001b[0mverbose\u001b[0m\u001b[0;34m=\u001b[0m\u001b[0;36m1\u001b[0m\u001b[0;34m,\u001b[0m \u001b[0mcallbacks\u001b[0m \u001b[0;34m=\u001b[0m \u001b[0;34m[\u001b[0m\u001b[0mcp_callback\u001b[0m\u001b[0;34m]\u001b[0m\u001b[0;34m)\u001b[0m\u001b[0;34m\u001b[0m\u001b[0;34m\u001b[0m\u001b[0m\n\u001b[0m",
            "\u001b[0;32m/usr/local/lib/python3.6/dist-packages/tensorflow/python/keras/engine/training.py\u001b[0m in \u001b[0;36mfit_generator\u001b[0;34m(self, generator, steps_per_epoch, epochs, verbose, callbacks, validation_data, validation_steps, class_weight, max_queue_size, workers, use_multiprocessing, shuffle, initial_epoch)\u001b[0m\n\u001b[1;32m   1424\u001b[0m         \u001b[0muse_multiprocessing\u001b[0m\u001b[0;34m=\u001b[0m\u001b[0muse_multiprocessing\u001b[0m\u001b[0;34m,\u001b[0m\u001b[0;34m\u001b[0m\u001b[0;34m\u001b[0m\u001b[0m\n\u001b[1;32m   1425\u001b[0m         \u001b[0mshuffle\u001b[0m\u001b[0;34m=\u001b[0m\u001b[0mshuffle\u001b[0m\u001b[0;34m,\u001b[0m\u001b[0;34m\u001b[0m\u001b[0;34m\u001b[0m\u001b[0m\n\u001b[0;32m-> 1426\u001b[0;31m         initial_epoch=initial_epoch)\n\u001b[0m\u001b[1;32m   1427\u001b[0m \u001b[0;34m\u001b[0m\u001b[0m\n\u001b[1;32m   1428\u001b[0m   def evaluate_generator(self,\n",
            "\u001b[0;32m/usr/local/lib/python3.6/dist-packages/tensorflow/python/keras/engine/training_generator.py\u001b[0m in \u001b[0;36mmodel_iteration\u001b[0;34m(model, data, steps_per_epoch, epochs, verbose, callbacks, validation_data, validation_steps, class_weight, max_queue_size, workers, use_multiprocessing, shuffle, initial_epoch, mode, batch_size, **kwargs)\u001b[0m\n\u001b[1;32m    189\u001b[0m       \u001b[0mprogbar\u001b[0m\u001b[0;34m.\u001b[0m\u001b[0mon_batch_begin\u001b[0m\u001b[0;34m(\u001b[0m\u001b[0mstep\u001b[0m\u001b[0;34m,\u001b[0m \u001b[0mbatch_logs\u001b[0m\u001b[0;34m)\u001b[0m\u001b[0;34m\u001b[0m\u001b[0;34m\u001b[0m\u001b[0m\n\u001b[1;32m    190\u001b[0m \u001b[0;34m\u001b[0m\u001b[0m\n\u001b[0;32m--> 191\u001b[0;31m       \u001b[0mbatch_outs\u001b[0m \u001b[0;34m=\u001b[0m \u001b[0mbatch_function\u001b[0m\u001b[0;34m(\u001b[0m\u001b[0;34m*\u001b[0m\u001b[0mbatch_data\u001b[0m\u001b[0;34m)\u001b[0m\u001b[0;34m\u001b[0m\u001b[0;34m\u001b[0m\u001b[0m\n\u001b[0m\u001b[1;32m    192\u001b[0m       \u001b[0;32mif\u001b[0m \u001b[0;32mnot\u001b[0m \u001b[0misinstance\u001b[0m\u001b[0;34m(\u001b[0m\u001b[0mbatch_outs\u001b[0m\u001b[0;34m,\u001b[0m \u001b[0mlist\u001b[0m\u001b[0;34m)\u001b[0m\u001b[0;34m:\u001b[0m\u001b[0;34m\u001b[0m\u001b[0;34m\u001b[0m\u001b[0m\n\u001b[1;32m    193\u001b[0m         \u001b[0mbatch_outs\u001b[0m \u001b[0;34m=\u001b[0m \u001b[0;34m[\u001b[0m\u001b[0mbatch_outs\u001b[0m\u001b[0;34m]\u001b[0m\u001b[0;34m\u001b[0m\u001b[0;34m\u001b[0m\u001b[0m\n",
            "\u001b[0;32m/usr/local/lib/python3.6/dist-packages/tensorflow/python/keras/engine/training.py\u001b[0m in \u001b[0;36mtrain_on_batch\u001b[0;34m(self, x, y, sample_weight, class_weight, reset_metrics)\u001b[0m\n\u001b[1;32m   1189\u001b[0m       \u001b[0;32melse\u001b[0m\u001b[0;34m:\u001b[0m\u001b[0;34m\u001b[0m\u001b[0;34m\u001b[0m\u001b[0m\n\u001b[1;32m   1190\u001b[0m         \u001b[0mself\u001b[0m\u001b[0;34m.\u001b[0m\u001b[0m_make_fit_function\u001b[0m\u001b[0;34m(\u001b[0m\u001b[0;34m)\u001b[0m\u001b[0;34m\u001b[0m\u001b[0;34m\u001b[0m\u001b[0m\n\u001b[0;32m-> 1191\u001b[0;31m         \u001b[0moutputs\u001b[0m \u001b[0;34m=\u001b[0m \u001b[0mself\u001b[0m\u001b[0;34m.\u001b[0m\u001b[0m_fit_function\u001b[0m\u001b[0;34m(\u001b[0m\u001b[0mins\u001b[0m\u001b[0;34m)\u001b[0m  \u001b[0;31m# pylint: disable=not-callable\u001b[0m\u001b[0;34m\u001b[0m\u001b[0;34m\u001b[0m\u001b[0m\n\u001b[0m\u001b[1;32m   1192\u001b[0m \u001b[0;34m\u001b[0m\u001b[0m\n\u001b[1;32m   1193\u001b[0m     \u001b[0;32mif\u001b[0m \u001b[0mreset_metrics\u001b[0m\u001b[0;34m:\u001b[0m\u001b[0;34m\u001b[0m\u001b[0;34m\u001b[0m\u001b[0m\n",
            "\u001b[0;32m/usr/local/lib/python3.6/dist-packages/tensorflow/python/keras/backend.py\u001b[0m in \u001b[0;36m__call__\u001b[0;34m(self, inputs)\u001b[0m\n\u001b[1;32m   3074\u001b[0m \u001b[0;34m\u001b[0m\u001b[0m\n\u001b[1;32m   3075\u001b[0m     fetched = self._callable_fn(*array_vals,\n\u001b[0;32m-> 3076\u001b[0;31m                                 run_metadata=self.run_metadata)\n\u001b[0m\u001b[1;32m   3077\u001b[0m     \u001b[0mself\u001b[0m\u001b[0;34m.\u001b[0m\u001b[0m_call_fetch_callbacks\u001b[0m\u001b[0;34m(\u001b[0m\u001b[0mfetched\u001b[0m\u001b[0;34m[\u001b[0m\u001b[0;34m-\u001b[0m\u001b[0mlen\u001b[0m\u001b[0;34m(\u001b[0m\u001b[0mself\u001b[0m\u001b[0;34m.\u001b[0m\u001b[0m_fetches\u001b[0m\u001b[0;34m)\u001b[0m\u001b[0;34m:\u001b[0m\u001b[0;34m]\u001b[0m\u001b[0;34m)\u001b[0m\u001b[0;34m\u001b[0m\u001b[0;34m\u001b[0m\u001b[0m\n\u001b[1;32m   3078\u001b[0m     return nest.pack_sequence_as(self._outputs_structure,\n",
            "\u001b[0;32m/usr/local/lib/python3.6/dist-packages/tensorflow/python/client/session.py\u001b[0m in \u001b[0;36m__call__\u001b[0;34m(self, *args, **kwargs)\u001b[0m\n\u001b[1;32m   1437\u001b[0m           ret = tf_session.TF_SessionRunCallable(\n\u001b[1;32m   1438\u001b[0m               \u001b[0mself\u001b[0m\u001b[0;34m.\u001b[0m\u001b[0m_session\u001b[0m\u001b[0;34m.\u001b[0m\u001b[0m_session\u001b[0m\u001b[0;34m,\u001b[0m \u001b[0mself\u001b[0m\u001b[0;34m.\u001b[0m\u001b[0m_handle\u001b[0m\u001b[0;34m,\u001b[0m \u001b[0margs\u001b[0m\u001b[0;34m,\u001b[0m \u001b[0mstatus\u001b[0m\u001b[0;34m,\u001b[0m\u001b[0;34m\u001b[0m\u001b[0;34m\u001b[0m\u001b[0m\n\u001b[0;32m-> 1439\u001b[0;31m               run_metadata_ptr)\n\u001b[0m\u001b[1;32m   1440\u001b[0m         \u001b[0;32mif\u001b[0m \u001b[0mrun_metadata\u001b[0m\u001b[0;34m:\u001b[0m\u001b[0;34m\u001b[0m\u001b[0;34m\u001b[0m\u001b[0m\n\u001b[1;32m   1441\u001b[0m           \u001b[0mproto_data\u001b[0m \u001b[0;34m=\u001b[0m \u001b[0mtf_session\u001b[0m\u001b[0;34m.\u001b[0m\u001b[0mTF_GetBuffer\u001b[0m\u001b[0;34m(\u001b[0m\u001b[0mrun_metadata_ptr\u001b[0m\u001b[0;34m)\u001b[0m\u001b[0;34m\u001b[0m\u001b[0;34m\u001b[0m\u001b[0m\n",
            "\u001b[0;31mKeyboardInterrupt\u001b[0m: "
          ]
        }
      ]
    },
    {
      "cell_type": "code",
      "metadata": {
        "id": "jrqcJP2Af2En",
        "colab_type": "code",
        "colab": {}
      },
      "source": [
        "#115 epoches done\n",
        "from tensorflow.keras.models import load_model\n",
        "import tensorflow as tf\n",
        "from tensorflow import keras\n",
        "model = load_model(\"/content/gdrive/My Drive/training_1/cp.ckpt\")\n",
        "cp_callback = tf.keras.callbacks.ModelCheckpoint(\"/content/gdrive/My Drive/training_1/cp.ckpt\", \n",
        "                                                 save_weights_only=False,\n",
        "                                                 verbose=1,period=5)\n",
        "from keras import backend as k\n",
        "k.set_value(model.optimizer.lr, 0.0005)\n",
        "k.set_value(model.optimizer.decay, 0.00025)\n",
        "train_datagen = ImageDataGenerator(\n",
        "        rescale=1./255,\n",
        "        shear_range=0.2,\n",
        "        zoom_range=0.2,\n",
        "        horizontal_flip=True)\n",
        "\n",
        "test_datagen = ImageDataGenerator(rescale=1./255)\n",
        "\n",
        "train_generator = train_datagen.flow_from_directory(\n",
        "        r'./tiny-imagenet-200/train/',\n",
        "        target_size=(64, 64),\n",
        "        batch_size=128,\n",
        "        class_mode='categorical')\n",
        "\n",
        "val_generator = valid_datagen.flow_from_dataframe(\n",
        "        val_data, directory='./tiny-imagenet-200/val/images/',\n",
        "        x_col='File', y_col='Class',\n",
        "        target_size=(64, 64),\n",
        "        batch_size=128,\n",
        "        class_mode='categorical')\n",
        "\n",
        "model.fit_generator(train_generator,steps_per_epoch=100000 // 512, validation_data=val_generator, validation_steps=10000 // 512, epochs=50, max_queue_size=64*2,verbose=1, callbacks = [cp_callback])"
      ],
      "execution_count": 0,
      "outputs": []
    }
  ]
}